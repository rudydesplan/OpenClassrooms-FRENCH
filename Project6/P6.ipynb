{
 "cells": [
  {
   "cell_type": "code",
   "execution_count": 1,
   "id": "a7fdb80e",
   "metadata": {},
   "outputs": [],
   "source": [
    "import pandas as pd\n",
    "import numpy as np\n",
    "import matplotlib.pyplot as plt\n",
    "\n",
    "transactions = pd.read_csv('C:/Users/Admin/Desktop/DATA/FRANCE/OpenClassroom/Project/P6/transactions.csv') #les ventes (appelées “Transactions”)\n",
    "products = pd.read_csv('C:/Users/Admin/Desktop/DATA/FRANCE/OpenClassroom/Project/P6/products.csv') #la liste des produits\n",
    "customers = pd.read_csv('C:/Users/Admin/Desktop/DATA/FRANCE/OpenClassroom/Project/P6/customers.csv') #la liste des clients"
   ]
  },
  {
   "cell_type": "markdown",
   "id": "20b41441",
   "metadata": {},
   "source": [
    "### Impression des informations des differentes DataFrame"
   ]
  },
  {
   "cell_type": "code",
   "execution_count": 2,
   "id": "1c5daf48",
   "metadata": {},
   "outputs": [
    {
     "name": "stdout",
     "output_type": "stream",
     "text": [
      "<class 'pandas.core.frame.DataFrame'>\n",
      "RangeIndex: 679532 entries, 0 to 679531\n",
      "Data columns (total 4 columns):\n",
      " #   Column      Non-Null Count   Dtype \n",
      "---  ------      --------------   ----- \n",
      " 0   id_prod     679532 non-null  object\n",
      " 1   date        679532 non-null  object\n",
      " 2   session_id  679532 non-null  object\n",
      " 3   client_id   679532 non-null  object\n",
      "dtypes: object(4)\n",
      "memory usage: 20.7+ MB\n",
      "None\n"
     ]
    }
   ],
   "source": [
    "print(transactions.info())"
   ]
  },
  {
   "cell_type": "code",
   "execution_count": 3,
   "id": "6a3eeab5-662a-41ec-9cc6-7ff21b6b7e6e",
   "metadata": {},
   "outputs": [
    {
     "data": {
      "text/html": [
       "<div>\n",
       "<style scoped>\n",
       "    .dataframe tbody tr th:only-of-type {\n",
       "        vertical-align: middle;\n",
       "    }\n",
       "\n",
       "    .dataframe tbody tr th {\n",
       "        vertical-align: top;\n",
       "    }\n",
       "\n",
       "    .dataframe thead th {\n",
       "        text-align: right;\n",
       "    }\n",
       "</style>\n",
       "<table border=\"1\" class=\"dataframe\">\n",
       "  <thead>\n",
       "    <tr style=\"text-align: right;\">\n",
       "      <th></th>\n",
       "      <th>id_prod</th>\n",
       "      <th>date</th>\n",
       "      <th>session_id</th>\n",
       "      <th>client_id</th>\n",
       "    </tr>\n",
       "  </thead>\n",
       "  <tbody>\n",
       "    <tr>\n",
       "      <th>count</th>\n",
       "      <td>679532</td>\n",
       "      <td>679532</td>\n",
       "      <td>679532</td>\n",
       "      <td>679532</td>\n",
       "    </tr>\n",
       "    <tr>\n",
       "      <th>unique</th>\n",
       "      <td>3267</td>\n",
       "      <td>679371</td>\n",
       "      <td>342316</td>\n",
       "      <td>8602</td>\n",
       "    </tr>\n",
       "    <tr>\n",
       "      <th>top</th>\n",
       "      <td>1_369</td>\n",
       "      <td>test_2021-03-01 02:30:02.237413</td>\n",
       "      <td>s_0</td>\n",
       "      <td>c_1609</td>\n",
       "    </tr>\n",
       "    <tr>\n",
       "      <th>freq</th>\n",
       "      <td>2252</td>\n",
       "      <td>13</td>\n",
       "      <td>200</td>\n",
       "      <td>25488</td>\n",
       "    </tr>\n",
       "  </tbody>\n",
       "</table>\n",
       "</div>"
      ],
      "text/plain": [
       "       id_prod                             date session_id client_id\n",
       "count   679532                           679532     679532    679532\n",
       "unique    3267                           679371     342316      8602\n",
       "top      1_369  test_2021-03-01 02:30:02.237413        s_0    c_1609\n",
       "freq      2252                               13        200     25488"
      ]
     },
     "execution_count": 3,
     "metadata": {},
     "output_type": "execute_result"
    }
   ],
   "source": [
    "transactions.describe(include='all')"
   ]
  },
  {
   "cell_type": "code",
   "execution_count": 4,
   "id": "bc1c9eb2",
   "metadata": {},
   "outputs": [
    {
     "name": "stdout",
     "output_type": "stream",
     "text": [
      "<class 'pandas.core.frame.DataFrame'>\n",
      "RangeIndex: 3287 entries, 0 to 3286\n",
      "Data columns (total 3 columns):\n",
      " #   Column   Non-Null Count  Dtype  \n",
      "---  ------   --------------  -----  \n",
      " 0   id_prod  3287 non-null   object \n",
      " 1   price    3287 non-null   float64\n",
      " 2   categ    3287 non-null   int64  \n",
      "dtypes: float64(1), int64(1), object(1)\n",
      "memory usage: 77.2+ KB\n",
      "None\n"
     ]
    }
   ],
   "source": [
    "print(products.info())"
   ]
  },
  {
   "cell_type": "code",
   "execution_count": 5,
   "id": "93382cdc-7da6-411b-a14b-506d45d9703f",
   "metadata": {},
   "outputs": [
    {
     "data": {
      "text/html": [
       "<div>\n",
       "<style scoped>\n",
       "    .dataframe tbody tr th:only-of-type {\n",
       "        vertical-align: middle;\n",
       "    }\n",
       "\n",
       "    .dataframe tbody tr th {\n",
       "        vertical-align: top;\n",
       "    }\n",
       "\n",
       "    .dataframe thead th {\n",
       "        text-align: right;\n",
       "    }\n",
       "</style>\n",
       "<table border=\"1\" class=\"dataframe\">\n",
       "  <thead>\n",
       "    <tr style=\"text-align: right;\">\n",
       "      <th></th>\n",
       "      <th>id_prod</th>\n",
       "      <th>price</th>\n",
       "      <th>categ</th>\n",
       "    </tr>\n",
       "  </thead>\n",
       "  <tbody>\n",
       "    <tr>\n",
       "      <th>count</th>\n",
       "      <td>3287</td>\n",
       "      <td>3287.000000</td>\n",
       "      <td>3287.000000</td>\n",
       "    </tr>\n",
       "    <tr>\n",
       "      <th>unique</th>\n",
       "      <td>3287</td>\n",
       "      <td>NaN</td>\n",
       "      <td>NaN</td>\n",
       "    </tr>\n",
       "    <tr>\n",
       "      <th>top</th>\n",
       "      <td>0_1421</td>\n",
       "      <td>NaN</td>\n",
       "      <td>NaN</td>\n",
       "    </tr>\n",
       "    <tr>\n",
       "      <th>freq</th>\n",
       "      <td>1</td>\n",
       "      <td>NaN</td>\n",
       "      <td>NaN</td>\n",
       "    </tr>\n",
       "    <tr>\n",
       "      <th>mean</th>\n",
       "      <td>NaN</td>\n",
       "      <td>21.856641</td>\n",
       "      <td>0.370246</td>\n",
       "    </tr>\n",
       "    <tr>\n",
       "      <th>std</th>\n",
       "      <td>NaN</td>\n",
       "      <td>29.847908</td>\n",
       "      <td>0.615387</td>\n",
       "    </tr>\n",
       "    <tr>\n",
       "      <th>min</th>\n",
       "      <td>NaN</td>\n",
       "      <td>-1.000000</td>\n",
       "      <td>0.000000</td>\n",
       "    </tr>\n",
       "    <tr>\n",
       "      <th>25%</th>\n",
       "      <td>NaN</td>\n",
       "      <td>6.990000</td>\n",
       "      <td>0.000000</td>\n",
       "    </tr>\n",
       "    <tr>\n",
       "      <th>50%</th>\n",
       "      <td>NaN</td>\n",
       "      <td>13.060000</td>\n",
       "      <td>0.000000</td>\n",
       "    </tr>\n",
       "    <tr>\n",
       "      <th>75%</th>\n",
       "      <td>NaN</td>\n",
       "      <td>22.990000</td>\n",
       "      <td>1.000000</td>\n",
       "    </tr>\n",
       "    <tr>\n",
       "      <th>max</th>\n",
       "      <td>NaN</td>\n",
       "      <td>300.000000</td>\n",
       "      <td>2.000000</td>\n",
       "    </tr>\n",
       "  </tbody>\n",
       "</table>\n",
       "</div>"
      ],
      "text/plain": [
       "       id_prod        price        categ\n",
       "count     3287  3287.000000  3287.000000\n",
       "unique    3287          NaN          NaN\n",
       "top     0_1421          NaN          NaN\n",
       "freq         1          NaN          NaN\n",
       "mean       NaN    21.856641     0.370246\n",
       "std        NaN    29.847908     0.615387\n",
       "min        NaN    -1.000000     0.000000\n",
       "25%        NaN     6.990000     0.000000\n",
       "50%        NaN    13.060000     0.000000\n",
       "75%        NaN    22.990000     1.000000\n",
       "max        NaN   300.000000     2.000000"
      ]
     },
     "execution_count": 5,
     "metadata": {},
     "output_type": "execute_result"
    }
   ],
   "source": [
    "products.describe(include='all')"
   ]
  },
  {
   "cell_type": "code",
   "execution_count": 6,
   "id": "df08bafa-3898-43a5-a5df-fc52f65a696a",
   "metadata": {},
   "outputs": [
    {
     "name": "stdout",
     "output_type": "stream",
     "text": [
      "<class 'pandas.core.frame.DataFrame'>\n",
      "RangeIndex: 8623 entries, 0 to 8622\n",
      "Data columns (total 3 columns):\n",
      " #   Column     Non-Null Count  Dtype \n",
      "---  ------     --------------  ----- \n",
      " 0   client_id  8623 non-null   object\n",
      " 1   sex        8623 non-null   object\n",
      " 2   birth      8623 non-null   int64 \n",
      "dtypes: int64(1), object(2)\n",
      "memory usage: 202.2+ KB\n",
      "None\n"
     ]
    }
   ],
   "source": [
    "print(customers.info())"
   ]
  },
  {
   "cell_type": "code",
   "execution_count": 7,
   "id": "21941d88-e11e-4b01-baeb-70bf80a6f929",
   "metadata": {},
   "outputs": [
    {
     "data": {
      "text/html": [
       "<div>\n",
       "<style scoped>\n",
       "    .dataframe tbody tr th:only-of-type {\n",
       "        vertical-align: middle;\n",
       "    }\n",
       "\n",
       "    .dataframe tbody tr th {\n",
       "        vertical-align: top;\n",
       "    }\n",
       "\n",
       "    .dataframe thead th {\n",
       "        text-align: right;\n",
       "    }\n",
       "</style>\n",
       "<table border=\"1\" class=\"dataframe\">\n",
       "  <thead>\n",
       "    <tr style=\"text-align: right;\">\n",
       "      <th></th>\n",
       "      <th>id_prod</th>\n",
       "      <th>price</th>\n",
       "      <th>categ</th>\n",
       "    </tr>\n",
       "  </thead>\n",
       "  <tbody>\n",
       "    <tr>\n",
       "      <th>count</th>\n",
       "      <td>3287</td>\n",
       "      <td>3287.000000</td>\n",
       "      <td>3287.000000</td>\n",
       "    </tr>\n",
       "    <tr>\n",
       "      <th>unique</th>\n",
       "      <td>3287</td>\n",
       "      <td>NaN</td>\n",
       "      <td>NaN</td>\n",
       "    </tr>\n",
       "    <tr>\n",
       "      <th>top</th>\n",
       "      <td>0_1421</td>\n",
       "      <td>NaN</td>\n",
       "      <td>NaN</td>\n",
       "    </tr>\n",
       "    <tr>\n",
       "      <th>freq</th>\n",
       "      <td>1</td>\n",
       "      <td>NaN</td>\n",
       "      <td>NaN</td>\n",
       "    </tr>\n",
       "    <tr>\n",
       "      <th>mean</th>\n",
       "      <td>NaN</td>\n",
       "      <td>21.856641</td>\n",
       "      <td>0.370246</td>\n",
       "    </tr>\n",
       "    <tr>\n",
       "      <th>std</th>\n",
       "      <td>NaN</td>\n",
       "      <td>29.847908</td>\n",
       "      <td>0.615387</td>\n",
       "    </tr>\n",
       "    <tr>\n",
       "      <th>min</th>\n",
       "      <td>NaN</td>\n",
       "      <td>-1.000000</td>\n",
       "      <td>0.000000</td>\n",
       "    </tr>\n",
       "    <tr>\n",
       "      <th>25%</th>\n",
       "      <td>NaN</td>\n",
       "      <td>6.990000</td>\n",
       "      <td>0.000000</td>\n",
       "    </tr>\n",
       "    <tr>\n",
       "      <th>50%</th>\n",
       "      <td>NaN</td>\n",
       "      <td>13.060000</td>\n",
       "      <td>0.000000</td>\n",
       "    </tr>\n",
       "    <tr>\n",
       "      <th>75%</th>\n",
       "      <td>NaN</td>\n",
       "      <td>22.990000</td>\n",
       "      <td>1.000000</td>\n",
       "    </tr>\n",
       "    <tr>\n",
       "      <th>max</th>\n",
       "      <td>NaN</td>\n",
       "      <td>300.000000</td>\n",
       "      <td>2.000000</td>\n",
       "    </tr>\n",
       "  </tbody>\n",
       "</table>\n",
       "</div>"
      ],
      "text/plain": [
       "       id_prod        price        categ\n",
       "count     3287  3287.000000  3287.000000\n",
       "unique    3287          NaN          NaN\n",
       "top     0_1421          NaN          NaN\n",
       "freq         1          NaN          NaN\n",
       "mean       NaN    21.856641     0.370246\n",
       "std        NaN    29.847908     0.615387\n",
       "min        NaN    -1.000000     0.000000\n",
       "25%        NaN     6.990000     0.000000\n",
       "50%        NaN    13.060000     0.000000\n",
       "75%        NaN    22.990000     1.000000\n",
       "max        NaN   300.000000     2.000000"
      ]
     },
     "execution_count": 7,
     "metadata": {},
     "output_type": "execute_result"
    }
   ],
   "source": [
    "products.describe(include='all')"
   ]
  },
  {
   "cell_type": "markdown",
   "id": "232322af",
   "metadata": {},
   "source": [
    "### Utilisation d'une fonction pour confirmer la présence de valeurs nulles"
   ]
  },
  {
   "cell_type": "code",
   "execution_count": 8,
   "id": "73f01055",
   "metadata": {},
   "outputs": [
    {
     "data": {
      "text/plain": [
       "id_prod    False\n",
       "price      False\n",
       "categ      False\n",
       "dtype: bool"
      ]
     },
     "execution_count": 8,
     "metadata": {},
     "output_type": "execute_result"
    }
   ],
   "source": [
    "#Méthode .isnull() (ou .isna())sur les données produits, renvoi de booléens par colonne\n",
    "products.isnull().any()"
   ]
  },
  {
   "cell_type": "code",
   "execution_count": 9,
   "id": "1cfd5287",
   "metadata": {},
   "outputs": [
    {
     "data": {
      "text/plain": [
       "client_id    False\n",
       "sex          False\n",
       "birth        False\n",
       "dtype: bool"
      ]
     },
     "execution_count": 9,
     "metadata": {},
     "output_type": "execute_result"
    }
   ],
   "source": [
    "#Méthode .isnull() sur les données clients, renvoi de booléens par colonne\n",
    "customers.isnull().any()"
   ]
  },
  {
   "cell_type": "code",
   "execution_count": 10,
   "id": "4ac74c61",
   "metadata": {},
   "outputs": [
    {
     "data": {
      "text/plain": [
       "id_prod       False\n",
       "date          False\n",
       "session_id    False\n",
       "client_id     False\n",
       "dtype: bool"
      ]
     },
     "execution_count": 10,
     "metadata": {},
     "output_type": "execute_result"
    }
   ],
   "source": [
    "#Méthode .isnull() sur les données transactions, renvoi de booléens par colonne\n",
    "transactions.isnull().any()"
   ]
  },
  {
   "cell_type": "markdown",
   "id": "727a7a67-06d5-4bb3-924e-4f19e24b3556",
   "metadata": {},
   "source": [
    "### Vérification des valeurs aberrantes dans la DataFrame products"
   ]
  },
  {
   "cell_type": "code",
   "execution_count": 11,
   "id": "269a0571",
   "metadata": {},
   "outputs": [
    {
     "name": "stdout",
     "output_type": "stream",
     "text": [
      "    id_prod  price  categ\n",
      "731     T_0   -1.0      0\n"
     ]
    }
   ],
   "source": [
    "tri1 = products[products[\"price\"]<=0]\n",
    "print(tri1)"
   ]
  },
  {
   "cell_type": "markdown",
   "id": "a37109fb-4e30-4c60-ae45-40fcee4cd640",
   "metadata": {},
   "source": [
    "### Verification de la présence de doublons dans les différentes DataFrame"
   ]
  },
  {
   "cell_type": "code",
   "execution_count": 12,
   "id": "0c35df19-c78a-458d-86b0-e408407e8c5d",
   "metadata": {},
   "outputs": [
    {
     "name": "stdout",
     "output_type": "stream",
     "text": [
      "La table products possede 0 doublons\n"
     ]
    }
   ],
   "source": [
    "print(f\"La table products possede {products.duplicated().sum()} doublons\")"
   ]
  },
  {
   "cell_type": "code",
   "execution_count": 13,
   "id": "f193a5a5-bd5f-4344-9585-f24036396a8e",
   "metadata": {},
   "outputs": [
    {
     "name": "stdout",
     "output_type": "stream",
     "text": [
      "La table customers possede 0 doublons\n"
     ]
    }
   ],
   "source": [
    "print(f\"La table customers possede {customers.duplicated().sum()} doublons\")"
   ]
  },
  {
   "cell_type": "code",
   "execution_count": 14,
   "id": "c0df2144-b91b-4aaf-b05d-ff6b498b6740",
   "metadata": {},
   "outputs": [
    {
     "name": "stdout",
     "output_type": "stream",
     "text": [
      "La table transactions possede 126 doublons\n"
     ]
    }
   ],
   "source": [
    "print(f\"La table transactions possede {transactions.duplicated().sum()} doublons\")"
   ]
  },
  {
   "cell_type": "markdown",
   "id": "8d1ec437-2ab9-4efc-bd6c-eaa34a473ac9",
   "metadata": {},
   "source": [
    "#### Suppression des doublons de la DataFrame customers"
   ]
  },
  {
   "cell_type": "code",
   "execution_count": 15,
   "id": "85f2ac94-399d-46c2-9456-10da3c302c77",
   "metadata": {},
   "outputs": [],
   "source": [
    "transactions.drop_duplicates(inplace=True)"
   ]
  },
  {
   "cell_type": "markdown",
   "id": "e3e54894-c8e8-403e-98c7-7d01993520e3",
   "metadata": {},
   "source": [
    "### Creation fonction test clé primaire"
   ]
  },
  {
   "cell_type": "code",
   "execution_count": 16,
   "id": "0b82126b-c7aa-409f-8f49-06d5e26690c4",
   "metadata": {},
   "outputs": [],
   "source": [
    "def cle_primaire(df_cle): # Vérification de la clé primaire\n",
    "  table_length = len(df_cle) - len(df_cle.drop_duplicates())\n",
    "  if table_length == 0:\n",
    "    print(f'La colonne de cette table peut etre une Clé primaire ')\n",
    "  else:\n",
    "    print(f'La colonne de cette table ne peut etre une Clé primaire ')"
   ]
  },
  {
   "cell_type": "markdown",
   "id": "4bf8f283-3533-457c-a0c6-9fe09dd4caa2",
   "metadata": {},
   "source": [
    "### Test des différentes colonnes comme clés primaires"
   ]
  },
  {
   "cell_type": "code",
   "execution_count": 17,
   "id": "115cd56a-9895-4e83-961d-8dabb569ac23",
   "metadata": {},
   "outputs": [
    {
     "name": "stdout",
     "output_type": "stream",
     "text": [
      "La colonne de cette table peut etre une Clé primaire \n"
     ]
    }
   ],
   "source": [
    "cle_primaire(products['id_prod'])"
   ]
  },
  {
   "cell_type": "code",
   "execution_count": 18,
   "id": "1994ee00-ad5a-487d-a2cc-15a5914510f5",
   "metadata": {},
   "outputs": [
    {
     "name": "stdout",
     "output_type": "stream",
     "text": [
      "La colonne de cette table peut etre une Clé primaire \n"
     ]
    }
   ],
   "source": [
    "cle_primaire(customers['client_id'])"
   ]
  },
  {
   "cell_type": "code",
   "execution_count": 19,
   "id": "fb413b94-5b43-4f03-8106-8c0628037424",
   "metadata": {},
   "outputs": [
    {
     "name": "stdout",
     "output_type": "stream",
     "text": [
      "La colonne de cette table peut etre une Clé primaire \n"
     ]
    }
   ],
   "source": [
    "# La clé primaire est composée de la date et de l'identifiant client car deux transactions peuvent survenir au même moment de deux clients differents.\n",
    "cle_primaire(transactions[['client_id', 'date']])"
   ]
  },
  {
   "cell_type": "markdown",
   "id": "c9348931-b70d-4a37-9f33-862fbacebd3d",
   "metadata": {},
   "source": [
    "### Left Join des tables Transactions et products"
   ]
  },
  {
   "cell_type": "code",
   "execution_count": 20,
   "id": "7bebea7b-7816-46f3-b4dc-97288aad02aa",
   "metadata": {},
   "outputs": [],
   "source": [
    "transactions_products=pd.merge(transactions,products,how=\"left\")"
   ]
  },
  {
   "cell_type": "code",
   "execution_count": 21,
   "id": "be620f44-68e3-4b3a-9b36-d8d85ff6dcda",
   "metadata": {},
   "outputs": [
    {
     "name": "stdout",
     "output_type": "stream",
     "text": [
      "<class 'pandas.core.frame.DataFrame'>\n",
      "Int64Index: 679406 entries, 0 to 679405\n",
      "Data columns (total 6 columns):\n",
      " #   Column      Non-Null Count   Dtype  \n",
      "---  ------      --------------   -----  \n",
      " 0   id_prod     679406 non-null  object \n",
      " 1   date        679406 non-null  object \n",
      " 2   session_id  679406 non-null  object \n",
      " 3   client_id   679406 non-null  object \n",
      " 4   price       679185 non-null  float64\n",
      " 5   categ       679185 non-null  float64\n",
      "dtypes: float64(2), object(4)\n",
      "memory usage: 36.3+ MB\n",
      "None\n"
     ]
    }
   ],
   "source": [
    "print(transactions_products.info())"
   ]
  },
  {
   "cell_type": "code",
   "execution_count": 22,
   "id": "e154ca1d-e771-4237-b9ba-9d2b25426007",
   "metadata": {},
   "outputs": [
    {
     "data": {
      "text/html": [
       "<div>\n",
       "<style scoped>\n",
       "    .dataframe tbody tr th:only-of-type {\n",
       "        vertical-align: middle;\n",
       "    }\n",
       "\n",
       "    .dataframe tbody tr th {\n",
       "        vertical-align: top;\n",
       "    }\n",
       "\n",
       "    .dataframe thead th {\n",
       "        text-align: right;\n",
       "    }\n",
       "</style>\n",
       "<table border=\"1\" class=\"dataframe\">\n",
       "  <thead>\n",
       "    <tr style=\"text-align: right;\">\n",
       "      <th></th>\n",
       "      <th>id_prod</th>\n",
       "      <th>date</th>\n",
       "      <th>session_id</th>\n",
       "      <th>client_id</th>\n",
       "      <th>price</th>\n",
       "      <th>categ</th>\n",
       "    </tr>\n",
       "  </thead>\n",
       "  <tbody>\n",
       "    <tr>\n",
       "      <th>count</th>\n",
       "      <td>679406</td>\n",
       "      <td>679406</td>\n",
       "      <td>679406</td>\n",
       "      <td>679406</td>\n",
       "      <td>679185.000000</td>\n",
       "      <td>679185.000000</td>\n",
       "    </tr>\n",
       "    <tr>\n",
       "      <th>unique</th>\n",
       "      <td>3267</td>\n",
       "      <td>679371</td>\n",
       "      <td>342316</td>\n",
       "      <td>8602</td>\n",
       "      <td>NaN</td>\n",
       "      <td>NaN</td>\n",
       "    </tr>\n",
       "    <tr>\n",
       "      <th>top</th>\n",
       "      <td>1_369</td>\n",
       "      <td>test_2021-03-01 02:30:02.237449</td>\n",
       "      <td>s_0</td>\n",
       "      <td>c_1609</td>\n",
       "      <td>NaN</td>\n",
       "      <td>NaN</td>\n",
       "    </tr>\n",
       "    <tr>\n",
       "      <th>freq</th>\n",
       "      <td>2252</td>\n",
       "      <td>2</td>\n",
       "      <td>74</td>\n",
       "      <td>25488</td>\n",
       "      <td>NaN</td>\n",
       "      <td>NaN</td>\n",
       "    </tr>\n",
       "    <tr>\n",
       "      <th>mean</th>\n",
       "      <td>NaN</td>\n",
       "      <td>NaN</td>\n",
       "      <td>NaN</td>\n",
       "      <td>NaN</td>\n",
       "      <td>17.452763</td>\n",
       "      <td>0.441905</td>\n",
       "    </tr>\n",
       "    <tr>\n",
       "      <th>std</th>\n",
       "      <td>NaN</td>\n",
       "      <td>NaN</td>\n",
       "      <td>NaN</td>\n",
       "      <td>NaN</td>\n",
       "      <td>18.329011</td>\n",
       "      <td>0.595027</td>\n",
       "    </tr>\n",
       "    <tr>\n",
       "      <th>min</th>\n",
       "      <td>NaN</td>\n",
       "      <td>NaN</td>\n",
       "      <td>NaN</td>\n",
       "      <td>NaN</td>\n",
       "      <td>-1.000000</td>\n",
       "      <td>0.000000</td>\n",
       "    </tr>\n",
       "    <tr>\n",
       "      <th>25%</th>\n",
       "      <td>NaN</td>\n",
       "      <td>NaN</td>\n",
       "      <td>NaN</td>\n",
       "      <td>NaN</td>\n",
       "      <td>8.870000</td>\n",
       "      <td>0.000000</td>\n",
       "    </tr>\n",
       "    <tr>\n",
       "      <th>50%</th>\n",
       "      <td>NaN</td>\n",
       "      <td>NaN</td>\n",
       "      <td>NaN</td>\n",
       "      <td>NaN</td>\n",
       "      <td>13.990000</td>\n",
       "      <td>0.000000</td>\n",
       "    </tr>\n",
       "    <tr>\n",
       "      <th>75%</th>\n",
       "      <td>NaN</td>\n",
       "      <td>NaN</td>\n",
       "      <td>NaN</td>\n",
       "      <td>NaN</td>\n",
       "      <td>18.990000</td>\n",
       "      <td>1.000000</td>\n",
       "    </tr>\n",
       "    <tr>\n",
       "      <th>max</th>\n",
       "      <td>NaN</td>\n",
       "      <td>NaN</td>\n",
       "      <td>NaN</td>\n",
       "      <td>NaN</td>\n",
       "      <td>300.000000</td>\n",
       "      <td>2.000000</td>\n",
       "    </tr>\n",
       "  </tbody>\n",
       "</table>\n",
       "</div>"
      ],
      "text/plain": [
       "       id_prod                             date session_id client_id  \\\n",
       "count   679406                           679406     679406    679406   \n",
       "unique    3267                           679371     342316      8602   \n",
       "top      1_369  test_2021-03-01 02:30:02.237449        s_0    c_1609   \n",
       "freq      2252                                2         74     25488   \n",
       "mean       NaN                              NaN        NaN       NaN   \n",
       "std        NaN                              NaN        NaN       NaN   \n",
       "min        NaN                              NaN        NaN       NaN   \n",
       "25%        NaN                              NaN        NaN       NaN   \n",
       "50%        NaN                              NaN        NaN       NaN   \n",
       "75%        NaN                              NaN        NaN       NaN   \n",
       "max        NaN                              NaN        NaN       NaN   \n",
       "\n",
       "                price          categ  \n",
       "count   679185.000000  679185.000000  \n",
       "unique            NaN            NaN  \n",
       "top               NaN            NaN  \n",
       "freq              NaN            NaN  \n",
       "mean        17.452763       0.441905  \n",
       "std         18.329011       0.595027  \n",
       "min         -1.000000       0.000000  \n",
       "25%          8.870000       0.000000  \n",
       "50%         13.990000       0.000000  \n",
       "75%         18.990000       1.000000  \n",
       "max        300.000000       2.000000  "
      ]
     },
     "execution_count": 22,
     "metadata": {},
     "output_type": "execute_result"
    }
   ],
   "source": [
    "transactions_products.describe(include='all')"
   ]
  },
  {
   "cell_type": "markdown",
   "id": "c3ff0842-6762-40a3-bf05-4907bacdb172",
   "metadata": {},
   "source": [
    "### Creation d'une DataFrame avec tout les produits dont le prix est nul"
   ]
  },
  {
   "cell_type": "code",
   "execution_count": 23,
   "id": "ed8d4a76-ee74-48ed-88ea-dc2c0699f572",
   "metadata": {},
   "outputs": [
    {
     "name": "stdout",
     "output_type": "stream",
     "text": [
      "<class 'pandas.core.frame.DataFrame'>\n",
      "Int64Index: 221 entries, 2633 to 677871\n",
      "Data columns (total 6 columns):\n",
      " #   Column      Non-Null Count  Dtype  \n",
      "---  ------      --------------  -----  \n",
      " 0   id_prod     221 non-null    object \n",
      " 1   date        221 non-null    object \n",
      " 2   session_id  221 non-null    object \n",
      " 3   client_id   221 non-null    object \n",
      " 4   price       0 non-null      float64\n",
      " 5   categ       0 non-null      float64\n",
      "dtypes: float64(2), object(4)\n",
      "memory usage: 12.1+ KB\n",
      "None\n"
     ]
    }
   ],
   "source": [
    "df_produit_inconnu1=transactions_products[transactions_products.price.isna()==True]\n",
    "print(df_produit_inconnu1.info())"
   ]
  },
  {
   "cell_type": "code",
   "execution_count": 24,
   "id": "0c4ac003-227a-4a63-b4ec-c2618c12ed66",
   "metadata": {},
   "outputs": [
    {
     "name": "stdout",
     "output_type": "stream",
     "text": [
      "         date  session_id  client_id  price  categ\n",
      "id_prod                                           \n",
      "0_2245    221         221        221      0      0\n"
     ]
    }
   ],
   "source": [
    "print(df_produit_inconnu1.groupby(df_produit_inconnu1.id_prod).count())"
   ]
  },
  {
   "cell_type": "markdown",
   "id": "28cc1e5c-0202-4688-9bbd-06f635a12466",
   "metadata": {},
   "source": [
    "### Le produit 0_2245 a été acheté 221 fois alors qu'il n'est pas répertorié"
   ]
  },
  {
   "cell_type": "markdown",
   "id": "1fc9321a-5242-45cf-9864-04cd82c722ed",
   "metadata": {},
   "source": [
    "### Creation d'une DataFrame avec tout les produits dont le prix est négatif"
   ]
  },
  {
   "cell_type": "code",
   "execution_count": 25,
   "id": "77103d67-42d6-4357-87c9-5647df44cce1",
   "metadata": {},
   "outputs": [
    {
     "name": "stdout",
     "output_type": "stream",
     "text": [
      "<class 'pandas.core.frame.DataFrame'>\n",
      "Int64Index: 74 entries, 3019 to 670556\n",
      "Data columns (total 6 columns):\n",
      " #   Column      Non-Null Count  Dtype  \n",
      "---  ------      --------------  -----  \n",
      " 0   id_prod     74 non-null     object \n",
      " 1   date        74 non-null     object \n",
      " 2   session_id  74 non-null     object \n",
      " 3   client_id   74 non-null     object \n",
      " 4   price       74 non-null     float64\n",
      " 5   categ       74 non-null     float64\n",
      "dtypes: float64(2), object(4)\n",
      "memory usage: 4.0+ KB\n",
      "None\n"
     ]
    }
   ],
   "source": [
    "df_produit_inconnu2 = transactions_products[transactions_products[\"price\"]<=0]\n",
    "print(df_produit_inconnu2.info())"
   ]
  },
  {
   "cell_type": "code",
   "execution_count": 26,
   "id": "58adb138-11ff-48da-aca7-d2a1d0bc179f",
   "metadata": {},
   "outputs": [
    {
     "name": "stdout",
     "output_type": "stream",
     "text": [
      "         date  session_id  client_id  price  categ\n",
      "id_prod                                           \n",
      "T_0        74          74         74     74     74\n"
     ]
    }
   ],
   "source": [
    "print(df_produit_inconnu2.groupby(df_produit_inconnu2.id_prod).count())"
   ]
  },
  {
   "cell_type": "markdown",
   "id": "a14f0bc4-5be7-413e-b1a0-4b3340b3e414",
   "metadata": {},
   "source": [
    "### Le produit T_0 a été acheté 74 fois alors qu'il n'est pas répertorié"
   ]
  },
  {
   "cell_type": "markdown",
   "id": "bedf6405-5d57-437d-916e-c302778cc60c",
   "metadata": {},
   "source": [
    "### Apres exploration de la DataFrame , on constate que des dates tests , transactions tests st associées à des id_client test :   \n",
    "### ct_0 et ct_1 que l'on va éliminer."
   ]
  },
  {
   "cell_type": "code",
   "execution_count": 27,
   "id": "733f0196-7cb7-4d2c-98d4-d8e532cc4049",
   "metadata": {},
   "outputs": [],
   "source": [
    "transactionsv1 = transactions[(transactions[\"client_id\"] != 'ct_1') & (transactions[\"client_id\"] != 'ct_0')]\n",
    "customersv1 = customers[(customers[\"client_id\"] != 'ct_1') & (customers[\"client_id\"] != 'ct_0')]"
   ]
  },
  {
   "cell_type": "code",
   "execution_count": 28,
   "id": "65f3bd30-a177-4c8c-afdc-1370cfcd72dd",
   "metadata": {},
   "outputs": [],
   "source": [
    "transactionsv1_products = pd.merge(transactionsv1, products,how=\"left\")"
   ]
  },
  {
   "cell_type": "markdown",
   "id": "bc4d9543-e237-4141-b6a9-fde808634bf8",
   "metadata": {},
   "source": [
    "### Suppression des valeurs nulles qui correspondent à l'id_prod 0_2245"
   ]
  },
  {
   "cell_type": "code",
   "execution_count": 29,
   "id": "6e6b8b40-7408-4804-bd30-94d0c76527a4",
   "metadata": {},
   "outputs": [],
   "source": [
    "transactionsv1_products=transactionsv1_products.dropna()"
   ]
  },
  {
   "cell_type": "markdown",
   "id": "7e328056-3b0c-44e5-a8c3-319ee798589c",
   "metadata": {},
   "source": [
    "### Modification du type de la colonne date qui est de type Object , ce qui n'est pas logique"
   ]
  },
  {
   "cell_type": "code",
   "execution_count": 30,
   "id": "9a7971b7-fdcb-437f-95c3-c5a535300224",
   "metadata": {},
   "outputs": [],
   "source": [
    "transactionsv1_products['date'] = pd.to_datetime(transactionsv1_products.date, format='%Y-%m-%d %H:%M:%S', errors = 'coerce')"
   ]
  },
  {
   "cell_type": "code",
   "execution_count": 31,
   "id": "76ca8da3-ce91-4d32-8020-09295e3ec32e",
   "metadata": {},
   "outputs": [
    {
     "name": "stdout",
     "output_type": "stream",
     "text": [
      "Il y a eu un total de 679111 transactions\n"
     ]
    }
   ],
   "source": [
    "Nombre_transaction = transactionsv1_products[\"price\"].count()\n",
    "print(f\"Il y a eu un total de {Nombre_transaction} transactions\")"
   ]
  },
  {
   "cell_type": "code",
   "execution_count": 32,
   "id": "52e2b30c",
   "metadata": {},
   "outputs": [
    {
     "name": "stdout",
     "output_type": "stream",
     "text": [
      " Le chiffre d'Affaire Total est de  11853728.680061746 euros\n"
     ]
    }
   ],
   "source": [
    "Total_CA=sum(transactionsv1_products[\"price\"])\n",
    "print(f\" Le chiffre d'Affaire Total est de  {Total_CA} euros\")"
   ]
  },
  {
   "cell_type": "code",
   "execution_count": 33,
   "id": "cd6e05a2",
   "metadata": {},
   "outputs": [
    {
     "name": "stdout",
     "output_type": "stream",
     "text": [
      "         count  pourcentage_transaction\n",
      "id_prod                                \n",
      "1_407     1935                 0.284931\n",
      "1_406     1939                 0.285520\n",
      "1_413     1945                 0.286404\n",
      "1_412     1951                 0.287287\n",
      "1_403     1960                 0.288613\n",
      "1_425     2096                 0.308639\n",
      "1_498     2128                 0.313351\n",
      "1_414     2180                 0.321008\n",
      "1_417     2189                 0.322333\n",
      "1_369     2252                 0.331610\n"
     ]
    }
   ],
   "source": [
    "transactionsv1_products_id = transactionsv1_products[['id_prod','price']]\n",
    "transactionsv1_products_id = transactionsv1_products_id.groupby(by=\"id_prod\").count()\n",
    "transactionsv1_products_id.rename(columns = {'price':'count'}, inplace = True)\n",
    "Total_count_id=sum(transactionsv1_products_id[\"count\"])\n",
    "transactionsv1_products_id['pourcentage_transaction']= 100 * (transactionsv1_products_id.loc[:,\"count\"] / Total_count_id )\n",
    "transactionsv1_products_top10 = transactionsv1_products_id.sort_values(by=['count']).tail(10)\n",
    "print(transactionsv1_products_top10)"
   ]
  },
  {
   "cell_type": "code",
   "execution_count": 34,
   "id": "fe54d46c",
   "metadata": {},
   "outputs": [
    {
     "name": "stdout",
     "output_type": "stream",
     "text": [
      "         count  pourcentage_transaction\n",
      "id_prod                                \n",
      "0_1151       1                 0.000147\n",
      "0_1284       1                 0.000147\n",
      "0_1379       1                 0.000147\n",
      "0_1498       1                 0.000147\n",
      "0_1539       1                 0.000147\n",
      "0_1601       1                 0.000147\n",
      "0_1633       1                 0.000147\n",
      "0_1683       1                 0.000147\n",
      "0_1728       1                 0.000147\n",
      "0_2201       1                 0.000147\n",
      "0_541        1                 0.000147\n",
      "0_549        1                 0.000147\n",
      "0_807        1                 0.000147\n",
      "0_833        1                 0.000147\n",
      "0_886        1                 0.000147\n",
      "2_23         1                 0.000147\n",
      "2_81         1                 0.000147\n",
      "2_98         1                 0.000147\n"
     ]
    }
   ],
   "source": [
    "transactionsv1_products_flop = transactionsv1_products_id[transactionsv1_products_id['count']==1]\n",
    "print(transactionsv1_products_flop)"
   ]
  },
  {
   "cell_type": "markdown",
   "id": "85c226fa-e7c7-4dd1-bb8e-f46969b67e78",
   "metadata": {},
   "source": [
    "#### Agrégation des données transactionnelles par fréquence mensuelle"
   ]
  },
  {
   "cell_type": "code",
   "execution_count": 35,
   "id": "01e2be8d-810d-4d03-9583-22076c3f20e8",
   "metadata": {},
   "outputs": [],
   "source": [
    "transactionsv1_months = transactionsv1_products.groupby(pd.Grouper(key='date', freq='M')).sum().reset_index()"
   ]
  },
  {
   "cell_type": "code",
   "execution_count": 36,
   "id": "0cfd4585-8235-40a6-a3ed-fa1fb2787774",
   "metadata": {},
   "outputs": [
    {
     "name": "stdout",
     "output_type": "stream",
     "text": [
      "         date  ventes_keuros  pourcentage\n",
      "0  2021-03-31      482.44061     4.069948\n",
      "1  2021-04-30      476.10930     4.016536\n",
      "2  2021-05-31      492.94347     4.158552\n",
      "3  2021-06-30      484.08856     4.083851\n",
      "4  2021-07-31      482.83540     4.073279\n",
      "5  2021-08-31      482.28479     4.068634\n",
      "6  2021-09-30      507.24068     4.279166\n",
      "7  2021-10-31      320.79874     2.706311\n",
      "8  2021-11-30      516.16773     4.354476\n",
      "9  2021-12-31      525.91728     4.436724\n",
      "10 2022-01-31      525.33899     4.431846\n",
      "11 2022-02-28      535.57150     4.518169\n",
      "12 2022-03-31      515.45653     4.348476\n",
      "13 2022-04-30      492.99894     4.159020\n",
      "14 2022-05-31      517.13260     4.362615\n",
      "15 2022-06-30      496.01612     4.184473\n",
      "16 2022-07-31      510.78312     4.309050\n",
      "17 2022-08-31      506.46727     4.272641\n",
      "18 2022-09-30      494.11453     4.168431\n",
      "19 2022-10-31      507.91777     4.284878\n",
      "20 2022-11-30      496.66494     4.189947\n",
      "21 2022-12-31      510.21950     4.304295\n",
      "22 2023-01-31      517.54055     4.366057\n",
      "23 2023-02-28      456.67976     3.852625\n"
     ]
    }
   ],
   "source": [
    "transactionsv1_months['ventes_keuros'] = transactionsv1_months[\"price\"] / 1000\n",
    "transactionsv1_months = transactionsv1_months[['date', 'ventes_keuros']]\n",
    "transactionsv1_months['pourcentage']= 100 * 1000 * (transactionsv1_months.loc[:,\"ventes_keuros\"] / Total_CA )\n",
    "print(transactionsv1_months)"
   ]
  },
  {
   "cell_type": "code",
   "execution_count": 37,
   "id": "1c5764c0",
   "metadata": {},
   "outputs": [],
   "source": [
    "#Moyenne mobile pour le CA par mois\n",
    "transactionsv1_months['month_rolling_avg'] = transactionsv1_months.ventes_keuros.rolling(window=2).mean()"
   ]
  },
  {
   "cell_type": "markdown",
   "id": "9d0b9336-cf88-4454-9ce4-eb88f8364f18",
   "metadata": {},
   "source": [
    "### Visualisation de l'évolution des ventes sur les mois"
   ]
  },
  {
   "cell_type": "code",
   "execution_count": 38,
   "id": "490ca23f-7985-4cd3-8464-7326bbb702ba",
   "metadata": {},
   "outputs": [
    {
     "data": {
      "image/png": "[encoded data removed]",
      "text/plain": [
       "<Figure size 432x288 with 1 Axes>"
      ]
     },
     "metadata": {
      "needs_background": "light"
     },
     "output_type": "display_data"
    }
   ],
   "source": [
    "x1=transactionsv1_months['date']\n",
    "y1=transactionsv1_months['ventes_keuros']\n",
    "plt.plot(x1, y1, label = \"Ventes K€\")\n",
    "x2=transactionsv1_months['date']\n",
    "y2=transactionsv1_months['month_rolling_avg']\n",
    "plt.plot(x2, y2, label = \"Ventes K€(moyenne_arrondi)\")\n",
    "plt.title('Evolution des ventes')\n",
    "plt.xlabel('Date')\n",
    "plt.ylabel('Ventes K€')\n",
    "plt.legend()          \n",
    "plt.show()"
   ]
  },
  {
   "cell_type": "code",
   "execution_count": 39,
   "id": "a5ad7dfe-86c3-40d2-967c-59356c84cc76",
   "metadata": {},
   "outputs": [
    {
     "name": "stdout",
     "output_type": "stream",
     "text": [
      "         date  nombre_transaction  pourcentage\n",
      "0  2021-03-31               28601     4.211535\n",
      "1  2021-04-30               28443     4.188270\n",
      "2  2021-05-31               28285     4.165004\n",
      "3  2021-06-30               26850     3.953698\n",
      "4  2021-07-31               24738     3.642703\n",
      "5  2021-08-31               25650     3.776997\n",
      "6  2021-09-30               33314     4.905531\n",
      "7  2021-10-31               21599     3.180482\n",
      "8  2021-11-30               28311     4.168832\n",
      "9  2021-12-31               32457     4.779337\n",
      "10 2022-01-31               29343     4.320796\n",
      "11 2022-02-28               29594     4.357756\n",
      "12 2022-03-31               29696     4.372776\n",
      "13 2022-04-30               27602     4.064431\n",
      "14 2022-05-31               29975     4.413859\n",
      "15 2022-06-30               28504     4.197252\n",
      "16 2022-07-31               28670     4.221696\n",
      "17 2022-08-31               28544     4.203142\n",
      "18 2022-09-30               28306     4.168096\n",
      "19 2022-10-31               28964     4.264988\n",
      "20 2022-11-30               28563     4.205940\n",
      "21 2022-12-31               28619     4.214186\n",
      "22 2023-01-31               28938     4.261159\n",
      "23 2023-02-28               25545     3.761535\n"
     ]
    }
   ],
   "source": [
    "#Nombre de Transaction par mois\n",
    "transactionsv1_months_count = transactionsv1_products.groupby(pd.Grouper(key='date', freq='M')).count().reset_index()\n",
    "transactionsv1_months_count = transactionsv1_months_count[['date', 'price']]\n",
    "transactionsv1_months_count.rename(columns = {'price':'nombre_transaction'}, inplace = True)\n",
    "transactionsv1_months_count['pourcentage']= 100 * (transactionsv1_months_count.loc[:,\"nombre_transaction\"] / Nombre_transaction )\n",
    "print(transactionsv1_months_count)"
   ]
  },
  {
   "cell_type": "code",
   "execution_count": 40,
   "id": "b23d201e",
   "metadata": {},
   "outputs": [],
   "source": [
    "#Moyenne mobile pour le CA par mois\n",
    "transactionsv1_months_count['month_rolling_avg'] = transactionsv1_months_count.nombre_transaction.rolling(window=2).mean()"
   ]
  },
  {
   "cell_type": "markdown",
   "id": "41aa259a-4357-4f27-864b-c93418cd7632",
   "metadata": {},
   "source": [
    "### Visualisation de l'évolution du nombre de transactions sur les mois"
   ]
  },
  {
   "cell_type": "code",
   "execution_count": 41,
   "id": "2848e5de-faac-4b2c-9181-2802e32cfa53",
   "metadata": {},
   "outputs": [
    {
     "data": {
      "image/png": "[encoded data removed]",
      "text/plain": [
       "<Figure size 432x288 with 1 Axes>"
      ]
     },
     "metadata": {
      "needs_background": "light"
     },
     "output_type": "display_data"
    }
   ],
   "source": [
    "x1=transactionsv1_months_count['date']\n",
    "y1=transactionsv1_months_count['nombre_transaction']\n",
    "plt.plot(x1, y1, label = \"nombre_transaction\")\n",
    "\n",
    "x2=transactionsv1_months_count['date']\n",
    "y2=transactionsv1_months_count['month_rolling_avg']\n",
    "plt.plot(x2, y2, label = \"nombre_transaction(moyenne_arrondi)\")\n",
    "\n",
    "plt.title('Evolution du nombre de transactions')\n",
    "plt.xlabel('Date')\n",
    "plt.ylabel('Nombre de transactions')\n",
    "plt.legend()          \n",
    "plt.show()"
   ]
  },
  {
   "cell_type": "markdown",
   "id": "a003d023-acbe-4a19-b558-a7862b499bba",
   "metadata": {},
   "source": [
    "#### Restriction par catégorie pour identifier les valeurs manquantes sur le mois d'octobre"
   ]
  },
  {
   "cell_type": "code",
   "execution_count": 42,
   "id": "166adda6-6d97-4e4c-9c27-8dcdaede008c",
   "metadata": {},
   "outputs": [],
   "source": [
    "transactions_oct = transactionsv1_products[(transactionsv1_products[\"date\"] > '2021-10-01') & (transactionsv1_products[\"date\"] < '2021-11-01')]\n",
    "len_transactions_oct_cat0= len(transactions_oct[(transactions_oct[\"categ\"] == 0)])\n",
    "len_transactions_oct_cat1= len(transactions_oct[(transactions_oct[\"categ\"] == 1)])\n",
    "len_transactions_oct_cat2= len(transactions_oct[(transactions_oct[\"categ\"] == 2)])"
   ]
  },
  {
   "cell_type": "code",
   "execution_count": 43,
   "id": "1b719e76-bdd6-453b-bf0a-e9b3a070fe24",
   "metadata": {},
   "outputs": [
    {
     "name": "stdout",
     "output_type": "stream",
     "text": [
      "il y a 18762 transaction de categorie 0 en octobre \n",
      "il y a 1666 transaction de categorie 1 en octobre  \n",
      "il y a 1171 transaction de categorie 2 en octobre  \n"
     ]
    }
   ],
   "source": [
    "print(f\"il y a {len_transactions_oct_cat0} transaction de categorie 0 en octobre \")\n",
    "print(f\"il y a {len_transactions_oct_cat1} transaction de categorie 1 en octobre  \")\n",
    "print(f\"il y a {len_transactions_oct_cat2} transaction de categorie 2 en octobre  \")"
   ]
  },
  {
   "cell_type": "markdown",
   "id": "9cb128d9-e69c-4ba0-a199-c018f58d70a0",
   "metadata": {},
   "source": [
    "### Dans le CADRE de CET exercice on considere le mois d'Octobre comme ceci : du 02 et 28 octobre"
   ]
  },
  {
   "cell_type": "code",
   "execution_count": 44,
   "id": "49c6342f-e9fe-481b-88d2-ccffaaf1c847",
   "metadata": {},
   "outputs": [],
   "source": [
    "transactions_octv1 = transactionsv1_products[(transactionsv1_products[\"date\"] > '2021-10-02') & (transactionsv1_products[\"date\"] < '2021-10-28')]\n",
    "len_transactionsv1_oct_cat0= len(transactions_octv1[(transactions_octv1[\"categ\"] == 0)])\n",
    "len_transactionsv1_oct_cat1= len(transactions_octv1[(transactions_octv1[\"categ\"] == 1)])\n",
    "len_transactionsv1_oct_cat2= len(transactions_octv1[(transactions_octv1[\"categ\"] == 2)])"
   ]
  },
  {
   "cell_type": "code",
   "execution_count": 45,
   "id": "bc1da027-9879-4cf5-b48e-2f3e583b5e06",
   "metadata": {},
   "outputs": [
    {
     "name": "stdout",
     "output_type": "stream",
     "text": [
      "il y a 15859 transaction de categorie 0 en octobre   \n",
      "il y a 0 transaction de categorie 1 en octobre  \n",
      "il y a 972 transaction de categorie 2 en octobre  \n"
     ]
    }
   ],
   "source": [
    "print(f\"il y a {len_transactionsv1_oct_cat0} transaction de categorie 0 en octobre   \")\n",
    "print(f\"il y a {len_transactionsv1_oct_cat1} transaction de categorie 1 en octobre  \")\n",
    "print(f\"il y a {len_transactionsv1_oct_cat2} transaction de categorie 2 en octobre  \")"
   ]
  },
  {
   "cell_type": "markdown",
   "id": "2ea18440-5c1e-401a-bd58-f6751fd4c5b2",
   "metadata": {},
   "source": [
    "### Pour la suite de l'étude le mois d'octobre ne sera pas pris en compte, l'analyse se fera sur 11 mois au lieu de 12."
   ]
  },
  {
   "cell_type": "code",
   "execution_count": 46,
   "id": "9bb48c23-cf5d-475d-9016-276303b6e550",
   "metadata": {},
   "outputs": [],
   "source": [
    "transactionsv2 = transactionsv1[(transactionsv1[\"date\"] < '2021-10-02') | (transactionsv1[\"date\"] > '2021-10-28')]\n",
    "transactionsv2_products = pd.merge(transactionsv2, products)"
   ]
  },
  {
   "cell_type": "code",
   "execution_count": 47,
   "id": "e31e4b89-9992-4b17-a162-e7a85a1aad0b",
   "metadata": {},
   "outputs": [
    {
     "data": {
      "text/plain": [
       "count    662280.000000\n",
       "mean         17.534868\n",
       "std          18.329220\n",
       "min           0.620000\n",
       "25%           8.990000\n",
       "50%          13.990000\n",
       "75%          19.080000\n",
       "max         300.000000\n",
       "Name: price, dtype: float64"
      ]
     },
     "execution_count": 47,
     "metadata": {},
     "output_type": "execute_result"
    }
   ],
   "source": [
    "transactionsv2_products.price.describe()"
   ]
  },
  {
   "cell_type": "code",
   "execution_count": 48,
   "id": "f24c10b0-83fd-4f88-bcc9-89dd6eb75070",
   "metadata": {},
   "outputs": [
    {
     "name": "stdout",
     "output_type": "stream",
     "text": [
      "13.99\n"
     ]
    }
   ],
   "source": [
    "#Calcul de la Mediane des prix produits vendus\n",
    "mediane = transactionsv2_products['price'].median()\n",
    "print(mediane)"
   ]
  },
  {
   "cell_type": "code",
   "execution_count": 49,
   "id": "9c23e1d2-8d3f-41a8-8ae2-a0ece7910762",
   "metadata": {},
   "outputs": [
    {
     "name": "stdout",
     "output_type": "stream",
     "text": [
      "0    15.99\n",
      "dtype: float64\n"
     ]
    }
   ],
   "source": [
    "#Calcul du Mode des prix produits vendus\n",
    "mode = transactionsv2_products['price'].mode()\n",
    "print(mode)"
   ]
  },
  {
   "cell_type": "code",
   "execution_count": 50,
   "id": "6535afa4-8270-4e72-a779-194898a835fe",
   "metadata": {},
   "outputs": [
    {
     "name": "stdout",
     "output_type": "stream",
     "text": [
      "335.96\n"
     ]
    }
   ],
   "source": [
    "#Calcul de la Variance des prix produits vendus\n",
    "variance = round(transactionsv2_products['price'].var(ddof=0), 2)\n",
    "print(variance)"
   ]
  },
  {
   "cell_type": "markdown",
   "id": "e53718b3-fe64-43f2-aa3d-1119c862e315",
   "metadata": {},
   "source": [
    "### Visualisation (Histogramme)de la distribution des prix produits"
   ]
  },
  {
   "cell_type": "code",
   "execution_count": 51,
   "id": "cf42ccf5-e84b-42a4-813e-fb9f5168113c",
   "metadata": {},
   "outputs": [
    {
     "data": {
      "image/png": "[encoded data removed]",
      "text/plain": [
       "<Figure size 432x288 with 1 Axes>"
      ]
     },
     "metadata": {
      "needs_background": "light"
     },
     "output_type": "display_data"
    }
   ],
   "source": [
    "transactionsv2_products['price'].hist(color='#0504aa', density=True, bins=200)\n",
    "plt.title('Distribution de la variable \"price\"')\n",
    "plt.xlabel('Prix produits(€)')\n",
    "plt.ylabel(\"Fréquence d'apparition\")\n",
    "plt.show()"
   ]
  },
  {
   "cell_type": "code",
   "execution_count": 52,
   "id": "1a0ce1da-fe8f-4c12-b04a-1f53ecc12459",
   "metadata": {},
   "outputs": [],
   "source": [
    "#Tri des individus dans l'ordre croissant des valeurs de la variable, \n",
    "price = transactionsv2_products['price'].values"
   ]
  },
  {
   "cell_type": "markdown",
   "id": "f18f96b1-6f00-40ef-9c9a-592d1385d86a",
   "metadata": {},
   "source": [
    "### Courbe de Lorenz sur la variables des prix"
   ]
  },
  {
   "cell_type": "code",
   "execution_count": 53,
   "id": "7c3af679-b24e-4847-902d-5ea558a8170d",
   "metadata": {},
   "outputs": [
    {
     "data": {
      "image/png": "[encoded data removed]",
      "text/plain": [
       "<Figure size 432x288 with 1 Axes>"
      ]
     },
     "metadata": {
      "needs_background": "light"
     },
     "output_type": "display_data"
    }
   ],
   "source": [
    "lorenz_price = np.cumsum(np.sort(price)) / price.sum()\n",
    "\n",
    "plt.plot(np.linspace(0,1,len(lorenz_price)), lorenz_price, drawstyle='steps-post', color='rosybrown', label='Lorenz')\n",
    "plt.fill_between(np.linspace(0,1,len(lorenz_price)) ,lorenz_price , color='#539ecd')\n",
    "plt.plot([0, 1], [0, 1], 'r-', lw=2, label='Distribution égalitaire')\n",
    "plt.vlines(x=.76, ymin=0, ymax=.5, color='blue', linestyle='--', linewidth=1, label='Medial')\n",
    "plt.hlines(xmin=.76, xmax=0, y=.5, color='blue', linestyle='--', linewidth=1)\n",
    "\n",
    "plt.title('Courbe de Lorenz des prix de vente')\n",
    "plt.xlabel(\"Distribution des ventes (%)\")\n",
    "plt.ylabel(\"Cumul des prix de ventes (%)\")\n",
    "plt.legend(loc=\"best\")\n",
    "\n",
    "plt.show()"
   ]
  },
  {
   "cell_type": "markdown",
   "id": "5e52017a-6450-4473-9836-b224323f40b4",
   "metadata": {},
   "source": [
    "### Représentation des quantités par catégories"
   ]
  },
  {
   "cell_type": "code",
   "execution_count": 54,
   "id": "dc7ce31e-123f-4d80-81a7-803be7577881",
   "metadata": {},
   "outputs": [
    {
     "name": "stdout",
     "output_type": "stream",
     "text": [
      "   categ       n  pourcentage\n",
      "0      0  399600     0.603370\n",
      "1      1  227169     0.343011\n",
      "2      2   35511     0.053619\n"
     ]
    }
   ],
   "source": [
    "quantite = transactionsv2_products['categ'].value_counts()\n",
    "modalite = quantite.index\n",
    "categorie = pd.DataFrame(modalite, columns = ['categ'])\n",
    "categorie[\"n\"] = quantite.values\n",
    "categorie[\"pourcentage\"] = categorie[\"n\"] / len(transactionsv2_products)\n",
    "print(categorie)"
   ]
  },
  {
   "cell_type": "markdown",
   "id": "655f383c-9fbd-4cde-9108-a68fd6c674b4",
   "metadata": {},
   "source": [
    "### Pie Chart pour représenter la part de chacune des catégories de vente"
   ]
  },
  {
   "cell_type": "code",
   "execution_count": 55,
   "id": "e98c6a1d-aec6-4e21-bc85-fdc16df36301",
   "metadata": {},
   "outputs": [
    {
     "data": {
      "image/png": "[encoded data removed]",
      "text/plain": [
       "<Figure size 864x432 with 1 Axes>"
      ]
     },
     "metadata": {},
     "output_type": "display_data"
    }
   ],
   "source": [
    "labels = 'Cat 0', 'Cat 1', 'Cat 2'\n",
    "sizes = categorie['pourcentage']\n",
    "explode = (0.06, 0, 0)\n",
    "\n",
    "fig1, ax1 = plt.subplots(figsize=(12,6))\n",
    "ax1.pie(sizes, explode=explode, labels=labels, autopct='%1.1f%%', shadow=False, startangle=90)\n",
    "\n",
    "ax1.axis('equal') \n",
    "plt.title('Répartition des catégories')\n",
    "plt.show()"
   ]
  },
  {
   "cell_type": "markdown",
   "id": "6ed25550-c0d5-433a-bdf7-b7d032bdb052",
   "metadata": {},
   "source": [
    "### Distribution des prix produits par catégorie avec un boxplot"
   ]
  },
  {
   "cell_type": "code",
   "execution_count": 56,
   "id": "3ad6af05-4dc0-44eb-b694-f9bb20b04663",
   "metadata": {},
   "outputs": [
    {
     "data": {
      "image/png": "[encoded data removed]",
      "text/plain": [
       "<Figure size 432x288 with 1 Axes>"
      ]
     },
     "metadata": {
      "needs_background": "light"
     },
     "output_type": "display_data"
    }
   ],
   "source": [
    "transactionsv2_products.boxplot(column='price', by='categ', showmeans=True)\n",
    "plt.title('Dispersion des prix de vente par catégorie')\n",
    "plt.xlabel('Catégories')\n",
    "plt.ylabel('Prix produits(€)')\n",
    "plt.show()"
   ]
  },
  {
   "cell_type": "code",
   "execution_count": 57,
   "id": "0f0a4d2a-b636-4597-825e-586351dd3454",
   "metadata": {},
   "outputs": [
    {
     "name": "stdout",
     "output_type": "stream",
     "text": [
      "Il y a 2290 produits dans la categorie 0\n",
      "Il y a 737 produits dans la categorie 1\n",
      "Il y a 236 produits dans la categorie 2\n"
     ]
    }
   ],
   "source": [
    "#Comptage des produits présents en catégorie 0\n",
    "nombre_cat_0 = len(transactionsv2_products[transactionsv2_products.categ == 0].groupby('id_prod'))\n",
    "print(f\"Il y a {nombre_cat_0} produits dans la categorie 0\")\n",
    "#Comptage des produits présents en catégorie 1\n",
    "nombre_cat_1 = len(transactionsv2_products[transactionsv2_products.categ == 1].groupby('id_prod'))\n",
    "print(f\"Il y a {nombre_cat_1} produits dans la categorie 1\")\n",
    "#Comptage des produits présents en catégorie 2\n",
    "nombre_cat_2 = len(transactionsv2_products[transactionsv2_products.categ == 2].groupby('id_prod'))\n",
    "print(f\"Il y a {nombre_cat_2} produits dans la categorie 2\")"
   ]
  },
  {
   "cell_type": "code",
   "execution_count": 58,
   "id": "56671e5b-eab8-4858-a0b4-9a9bdaba5b07",
   "metadata": {},
   "outputs": [
    {
     "name": "stderr",
     "output_type": "stream",
     "text": [
      "C:\\ProgramData\\Anaconda3\\lib\\site-packages\\pandas\\core\\indexing.py:1667: SettingWithCopyWarning: \n",
      "A value is trying to be set on a copy of a slice from a DataFrame.\n",
      "Try using .loc[row_indexer,col_indexer] = value instead\n",
      "\n",
      "See the caveats in the documentation: https://pandas.pydata.org/pandas-docs/stable/user_guide/indexing.html#returning-a-view-versus-a-copy\n",
      "  self.obj[key] = value\n"
     ]
    }
   ],
   "source": [
    "#Creation de la Colonne Age\n",
    "customersv1.loc[:,\"age\"] = 2022 - customersv1.loc[:,\"birth\"]"
   ]
  },
  {
   "cell_type": "code",
   "execution_count": 59,
   "id": "9f610ae5-ffb6-474d-a07b-4bbbe18b28ff",
   "metadata": {},
   "outputs": [],
   "source": [
    "transactionsv2_products_customersv1 = pd.merge(transactionsv2_products, customersv1,how=\"left\")"
   ]
  },
  {
   "cell_type": "code",
   "execution_count": 60,
   "id": "190ec804-912f-45e8-ab25-eac92d48e26d",
   "metadata": {},
   "outputs": [
    {
     "name": "stdout",
     "output_type": "stream",
     "text": [
      "<class 'pandas.core.frame.DataFrame'>\n",
      "Int64Index: 662280 entries, 0 to 662279\n",
      "Data columns (total 9 columns):\n",
      " #   Column      Non-Null Count   Dtype  \n",
      "---  ------      --------------   -----  \n",
      " 0   id_prod     662280 non-null  object \n",
      " 1   date        662280 non-null  object \n",
      " 2   session_id  662280 non-null  object \n",
      " 3   client_id   662280 non-null  object \n",
      " 4   price       662280 non-null  float64\n",
      " 5   categ       662280 non-null  int64  \n",
      " 6   sex         662280 non-null  object \n",
      " 7   birth       662280 non-null  int64  \n",
      " 8   age         662280 non-null  int64  \n",
      "dtypes: float64(1), int64(3), object(5)\n",
      "memory usage: 50.5+ MB\n"
     ]
    }
   ],
   "source": [
    "transactionsv2_products_customersv1.info()"
   ]
  },
  {
   "cell_type": "markdown",
   "id": "61587250",
   "metadata": {},
   "source": [
    "### Recherche d'informations en relation avec le sexe du client"
   ]
  },
  {
   "cell_type": "code",
   "execution_count": 61,
   "id": "dbd1776f",
   "metadata": {},
   "outputs": [],
   "source": [
    "transactionsv2_sexe = transactionsv2_products_customersv1[['price','sex']]"
   ]
  },
  {
   "cell_type": "code",
   "execution_count": 62,
   "id": "554b7352",
   "metadata": {},
   "outputs": [
    {
     "name": "stdout",
     "output_type": "stream",
     "text": [
      "          price  pourcentage\n",
      "sex                         \n",
      "f    5744680.68    49.467705\n",
      "m    5868311.55    50.532295\n"
     ]
    }
   ],
   "source": [
    "#Tableau recapitulatif du total des ventes selon le sex du client et leur proportion\n",
    "\n",
    "transactionsv2_sexe_grouped = transactionsv2_sexe.groupby(by=\"sex\").sum()\n",
    "Total_price=sum(transactionsv2_sexe_grouped[\"price\"])\n",
    "transactionsv2_sexe_grouped['pourcentage']= 100 * (transactionsv2_sexe_grouped.loc[:,\"price\"] / Total_price )\n",
    "print(transactionsv2_sexe_grouped)"
   ]
  },
  {
   "cell_type": "code",
   "execution_count": 63,
   "id": "a8279dd4",
   "metadata": {},
   "outputs": [
    {
     "name": "stdout",
     "output_type": "stream",
     "text": [
      "  sex  categ0  categ1  categ2   Total   % categ0   % categ1  % categ2\n",
      "0   f  330154  114899   16830  461883  71.480007  24.876213  3.643780\n",
      "1   m  332126  112270   18681  463077  71.721550  24.244348  4.034102\n"
     ]
    }
   ],
   "source": [
    "#Tableau recapitulatif du nombre de transaction par categorie et selon le sex du client\n",
    "\n",
    "transactionsv2_products_cate_sex = transactionsv2_products_customersv1[['categ','sex']]\n",
    "\n",
    "transactionsv2_products_cate0sex = transactionsv2_products_cate_sex[transactionsv2_products_cate_sex.categ == 0]\n",
    "transactionsv2_products_cate0sex = transactionsv2_products_cate_sex.groupby(by=\"sex\",as_index=False).count()\n",
    "transactionsv2_products_cate0sex.rename(columns = {'categ':'categ0'}, inplace = True)\n",
    "\n",
    "transactionsv2_products_cate1sex = transactionsv2_products_cate_sex[transactionsv2_products_cate_sex.categ == 1]\n",
    "transactionsv2_products_cate1sex = transactionsv2_products_cate1sex.groupby(by=\"sex\",as_index=False).count()\n",
    "transactionsv2_products_cate1sex.rename(columns = {'categ':'categ1'}, inplace = True)\n",
    "\n",
    "transactionsv2_products_cate2sex = transactionsv2_products_cate_sex[transactionsv2_products_cate_sex.categ == 2]\n",
    "transactionsv2_products_cate2sex = transactionsv2_products_cate2sex.groupby(by=\"sex\",as_index=False).count()\n",
    "transactionsv2_products_cate2sex.rename(columns = {'categ':'categ2'}, inplace = True)\n",
    "\n",
    "transactionsv2_products_cate0_1sex = pd.merge(transactionsv2_products_cate0sex,transactionsv2_products_cate1sex,on='sex')\n",
    "transactionsv2_products_catesex = pd.merge(transactionsv2_products_cate0_1sex,transactionsv2_products_cate2sex\n",
    ",on='sex')\n",
    "\n",
    "transactionsv2_products_catesex['Total']=transactionsv2_products_catesex['categ0']+transactionsv2_products_catesex['categ1']+transactionsv2_products_catesex['categ2']\n",
    "transactionsv2_products_catesex['% categ0']=100 * (transactionsv2_products_catesex['categ0'] / transactionsv2_products_catesex['Total'])\n",
    "transactionsv2_products_catesex['% categ1']=100 * (transactionsv2_products_catesex['categ1'] / transactionsv2_products_catesex['Total'])\n",
    "transactionsv2_products_catesex['% categ2']=100 * (transactionsv2_products_catesex['categ2'] / transactionsv2_products_catesex['Total'])\n",
    "\n",
    "print(transactionsv2_products_catesex)\n"
   ]
  },
  {
   "cell_type": "code",
   "execution_count": 64,
   "id": "e9e7b8d0",
   "metadata": {},
   "outputs": [
    {
     "name": "stdout",
     "output_type": "stream",
     "text": [
      "  sex  total_categ0  total_categ1  total_categ2       Total   % categ0  \\\n",
      "0   f    2108411.46    2358417.02    1277852.20  5744680.68  36.701978   \n",
      "1   m    2142926.05    2295305.67    1430079.83  5868311.55  36.516910   \n",
      "\n",
      "    % categ1   % categ2  \n",
      "0  41.053927  22.244095  \n",
      "1  39.113562  24.369528  \n"
     ]
    }
   ],
   "source": [
    "#Tableau recapitulatif du total des ventes par categorie et selon le sex du client\n",
    "\n",
    "transactionsv2_products_cate_sex_price = transactionsv2_products_customersv1[['categ','sex','price']]\n",
    "\n",
    "transactionsv2_products_cate0sex_price = transactionsv2_products_cate_sex_price[transactionsv2_products_cate_sex.categ == 0]\n",
    "transactionsv2_products_cate0sex_price = transactionsv2_products_cate0sex_price.groupby(by=\"sex\",as_index=False).sum()\n",
    "transactionsv2_products_cate0sex_price.rename(columns = {'price':'total_categ0'}, inplace = True)\n",
    "transactionsv2_products_cate0sex_price = transactionsv2_products_cate0sex_price[['sex','total_categ0']]\n",
    "\n",
    "transactionsv2_products_cate1sex_price = transactionsv2_products_cate_sex_price[transactionsv2_products_cate_sex.categ == 1]\n",
    "transactionsv2_products_cate1sex_price = transactionsv2_products_cate1sex_price.groupby(by=\"sex\",as_index=False).sum()\n",
    "transactionsv2_products_cate1sex_price.rename(columns = {'price':'total_categ1'}, inplace = True)\n",
    "transactionsv2_products_cate1sex_price = transactionsv2_products_cate1sex_price[['sex','total_categ1']]\n",
    "\n",
    "transactionsv2_products_cate2sex_price = transactionsv2_products_cate_sex_price[transactionsv2_products_cate_sex.categ == 2]\n",
    "transactionsv2_products_cate2sex_price = transactionsv2_products_cate2sex_price.groupby(by=\"sex\",as_index=False).sum()\n",
    "transactionsv2_products_cate2sex_price.rename(columns = {'price':'total_categ2'}, inplace = True)\n",
    "transactionsv2_products_cate2sex_price = transactionsv2_products_cate2sex_price[['sex','total_categ2']]\n",
    "\n",
    "transactionsv2_products_cate0_1sex_price = pd.merge(transactionsv2_products_cate0sex_price,transactionsv2_products_cate1sex_price,on='sex')\n",
    "transactionsv2_products_catesex_price = pd.merge(transactionsv2_products_cate0_1sex_price,transactionsv2_products_cate2sex_price,on='sex')\n",
    "\n",
    "\n",
    "transactionsv2_products_catesex_price['Total']=transactionsv2_products_catesex_price['total_categ0']+transactionsv2_products_catesex_price['total_categ1']+transactionsv2_products_catesex_price['total_categ2']\n",
    "transactionsv2_products_catesex_price['% categ0']=100 * (transactionsv2_products_catesex_price['total_categ0'] / transactionsv2_products_catesex_price['Total'])\n",
    "transactionsv2_products_catesex_price['% categ1']=100 * (transactionsv2_products_catesex_price['total_categ1'] / transactionsv2_products_catesex_price['Total'])\n",
    "transactionsv2_products_catesex_price['% categ2']=100 * (transactionsv2_products_catesex_price['total_categ2'] / transactionsv2_products_catesex_price['Total'])\n",
    "\n",
    "print(transactionsv2_products_catesex_price)"
   ]
  },
  {
   "cell_type": "code",
   "execution_count": 65,
   "id": "058b89b3",
   "metadata": {},
   "outputs": [
    {
     "data": {
      "image/png": "[encoded data removed]",
      "text/plain": [
       "<Figure size 576x396 with 2 Axes>"
      ]
     },
     "metadata": {},
     "output_type": "display_data"
    }
   ],
   "source": [
    "# 1. Import Modules\n",
    "import numpy as np\n",
    "import seaborn as sns\n",
    "import matplotlib.pylab as plt\n",
    "plt.style.use(\"seaborn\")\n",
    " \n",
    "# 2. Generate matrix\n",
    "data = transactionsv2_products_catesex_price[['total_categ0','total_categ1','total_categ2']]\n",
    " \n",
    "# 3. Plot the heatmap\n",
    "heat_map = sns.heatmap( data, linewidth = 1 , annot = True, yticklabels = transactionsv2_products_catesex_price['sex'] )\n",
    "plt.title( \"HeatMap using Seaborn Method\" )\n",
    "plt.show()"
   ]
  },
  {
   "cell_type": "markdown",
   "id": "ece592a1",
   "metadata": {},
   "source": [
    "### Recherche d'informations en relation avec l'age du client"
   ]
  },
  {
   "cell_type": "code",
   "execution_count": 66,
   "id": "887b0c15-7108-47de-b739-0bc0139e5222",
   "metadata": {},
   "outputs": [],
   "source": [
    "transactionsv2_age = transactionsv2_products_customersv1[['price','age']]"
   ]
  },
  {
   "cell_type": "code",
   "execution_count": 67,
   "id": "1197f3ee-0e6f-4733-b5a3-7d94e3fbfefa",
   "metadata": {},
   "outputs": [
    {
     "name": "stdout",
     "output_type": "stream",
     "text": [
      "    age      price  pourcentage\n",
      "0    18  595100.06     5.124433\n",
      "1    19  174037.33     1.498643\n",
      "2    20  179767.64     1.547987\n",
      "3    21  175223.94     1.508861\n",
      "4    22  161838.58     1.393599\n",
      "..  ...        ...          ...\n",
      "71   89    5212.55     0.044886\n",
      "72   90    4885.59     0.042070\n",
      "73   91    2760.83     0.023774\n",
      "74   92    3993.88     0.034391\n",
      "75   93    3208.07     0.027625\n",
      "\n",
      "[76 rows x 3 columns]\n"
     ]
    }
   ],
   "source": [
    "#Tableau avec le total des ventes par age ainsi que leur pourcentage\n",
    "transactionsv2_age_grouped = transactionsv2_age.groupby(by=\"age\",as_index=False).sum()\n",
    "Total_price=sum(transactionsv2_age_grouped[\"price\"])\n",
    "transactionsv2_age_grouped['pourcentage']= 100 * (transactionsv2_age_grouped.loc[:,\"price\"] / Total_price )\n",
    "print(transactionsv2_age_grouped)"
   ]
  },
  {
   "cell_type": "code",
   "execution_count": 68,
   "id": "9498beb4",
   "metadata": {
    "scrolled": true
   },
   "outputs": [
    {
     "data": {
      "text/plain": [
       "Text(0, 0.5, 'total des ventes (en euros)')"
      ]
     },
     "execution_count": 68,
     "metadata": {},
     "output_type": "execute_result"
    },
    {
     "data": {
      "image/png": "[encoded data removed]",
      "text/plain": [
       "<Figure size 576x396 with 1 Axes>"
      ]
     },
     "metadata": {},
     "output_type": "display_data"
    }
   ],
   "source": [
    "x=transactionsv2_age_grouped['age']\n",
    "y=transactionsv2_age_grouped['price']\n",
    "plt.scatter(x,y)\n",
    "plt.title(\"Scatter plot du total des ventes en fonction de l'age\")\n",
    "plt.xlabel('age')\n",
    "plt.ylabel('total des ventes (en euros)')"
   ]
  },
  {
   "cell_type": "code",
   "execution_count": 69,
   "id": "3ed39d75",
   "metadata": {},
   "outputs": [
    {
     "name": "stdout",
     "output_type": "stream",
     "text": [
      "               price  pourcentage\n",
      "age                              \n",
      "(18, 30]  2627430.37    22.624921\n",
      "(30, 50]  5403822.37    46.532558\n",
      "(50, 93]  2986639.43    25.718087\n"
     ]
    }
   ],
   "source": [
    "#Tableau avec le total des ventes par  intervalle d'age ainsi que leur pourcentage\n",
    "ages =[18, 30, 50, 93]\n",
    "age_groups = pd.cut(transactionsv2_age_grouped['age'], bins=ages)\n",
    "transactionsv2_age_intervalle = transactionsv2_age_grouped.groupby(age_groups)[['price','pourcentage']].sum()\n",
    "print(transactionsv2_age_intervalle)"
   ]
  },
  {
   "cell_type": "code",
   "execution_count": 70,
   "id": "2bb644bb",
   "metadata": {},
   "outputs": [
    {
     "data": {
      "image/png": "[encoded data removed]",
      "text/plain": [
       "<Figure size 864x432 with 1 Axes>"
      ]
     },
     "metadata": {},
     "output_type": "display_data"
    }
   ],
   "source": [
    "label = transactionsv2_age_intervalle.index\n",
    "size = transactionsv2_age_intervalle['pourcentage']\n",
    "explode = (0.06, 0, 0)\n",
    "\n",
    "fig1, ax1 = plt.subplots(figsize=(12,6))\n",
    "ax1.pie(size, explode=explode, labels=label, autopct='%1.1f%%', shadow=False,)\n",
    "\n",
    "ax1.axis('equal') \n",
    "plt.title('Répartition du total des ventes selon intervalle age')\n",
    "plt.show()"
   ]
  },
  {
   "cell_type": "code",
   "execution_count": 71,
   "id": "7c28b74e-ac16-43c6-964e-45c34368917b",
   "metadata": {},
   "outputs": [
    {
     "name": "stdout",
     "output_type": "stream",
     "text": [
      "    age      price\n",
      "0    18  40.036333\n",
      "1    19  40.777256\n",
      "2    20  40.064105\n",
      "3    21  41.949710\n",
      "4    22  37.393387\n",
      "..  ...        ...\n",
      "71   89  16.238474\n",
      "72   90  16.394597\n",
      "73   91  16.631506\n",
      "74   92  17.750578\n",
      "75   93  16.040350\n",
      "\n",
      "[76 rows x 2 columns]\n"
     ]
    }
   ],
   "source": [
    "#Tableau du panier moyen en fonction de l'age\n",
    "transactionsv2_age_moyenne = transactionsv2_age.groupby(by=\"age\",as_index=False).mean()\n",
    "print(transactionsv2_age_moyenne)"
   ]
  },
  {
   "cell_type": "code",
   "execution_count": 72,
   "id": "6c5a815c-6503-4448-8f87-d09ac8ed7ac8",
   "metadata": {},
   "outputs": [
    {
     "data": {
      "text/plain": [
       "Text(0, 0.5, 'panier moyen (en euros)')"
      ]
     },
     "execution_count": 72,
     "metadata": {},
     "output_type": "execute_result"
    },
    {
     "data": {
      "image/png": "[encoded data removed]",
      "text/plain": [
       "<Figure size 576x396 with 1 Axes>"
      ]
     },
     "metadata": {},
     "output_type": "display_data"
    }
   ],
   "source": [
    "x=transactionsv2_age_moyenne['age']\n",
    "y=transactionsv2_age_moyenne['price']\n",
    "plt.scatter(x,y)\n",
    "plt.title(\"Scatter plot du panier moyen en fonction de l'age\")\n",
    "plt.xlabel('age')\n",
    "plt.ylabel('panier moyen (en euros)')"
   ]
  },
  {
   "cell_type": "code",
   "execution_count": 73,
   "id": "4fe4530c",
   "metadata": {},
   "outputs": [
    {
     "name": "stdout",
     "output_type": "stream",
     "text": [
      "age\n",
      "(18, 30]    40.814751\n",
      "(30, 50]    13.306055\n",
      "(50, 93]    16.839872\n",
      "Name: price, dtype: float64\n"
     ]
    }
   ],
   "source": [
    "#Tableau du panier moyen en fonction de 3 intervalles d'age\n",
    "ages =[18, 30, 50, 93]\n",
    "age_groups2 = pd.cut(transactionsv2_age_moyenne['age'], bins=ages)\n",
    "transactionsv2_age_moyenne_intervalle = transactionsv2_age_moyenne.groupby(age_groups2)['price'].mean()\n",
    "print(transactionsv2_age_moyenne_intervalle)"
   ]
  },
  {
   "cell_type": "code",
   "execution_count": 74,
   "id": "e23ee5af-ac09-4a21-b771-c4bdc7f18699",
   "metadata": {},
   "outputs": [
    {
     "name": "stdout",
     "output_type": "stream",
     "text": [
      "    age  count  pourcentage\n",
      "0    18  14864     2.244368\n",
      "1    19   4268     0.644440\n",
      "2    20   4487     0.677508\n",
      "3    21   4177     0.630700\n",
      "4    22   4328     0.653500\n",
      "..  ...    ...          ...\n",
      "71   89    321     0.048469\n",
      "72   90    298     0.044996\n",
      "73   91    166     0.025065\n",
      "74   92    225     0.033974\n",
      "75   93    200     0.030199\n",
      "\n",
      "[76 rows x 3 columns]\n"
     ]
    }
   ],
   "source": [
    "#Tableau du nombre de transactions total en fonction de l'age\n",
    "transactionsv2_age_grouped2 = transactionsv2_age.groupby(by=\"age\",as_index=False).count()\n",
    "transactionsv2_age_grouped2.rename(columns = {'price':'count'}, inplace = True)\n",
    "Total_count=sum(transactionsv2_age_grouped2[\"count\"])\n",
    "transactionsv2_age_grouped2['pourcentage']= 100 * (transactionsv2_age_grouped2.loc[:,\"count\"] / Total_count )\n",
    "print(transactionsv2_age_grouped2)"
   ]
  },
  {
   "cell_type": "code",
   "execution_count": 75,
   "id": "697acebc",
   "metadata": {},
   "outputs": [
    {
     "data": {
      "text/plain": [
       "Text(0, 0.5, 'nombre de transaction total')"
      ]
     },
     "execution_count": 75,
     "metadata": {},
     "output_type": "execute_result"
    },
    {
     "data": {
      "image/png": "[encoded data removed]",
      "text/plain": [
       "<Figure size 576x396 with 1 Axes>"
      ]
     },
     "metadata": {},
     "output_type": "display_data"
    }
   ],
   "source": [
    "x=transactionsv2_age_grouped2['age']\n",
    "y=transactionsv2_age_grouped2['count']\n",
    "plt.scatter(x,y)\n",
    "plt.title(\"Scatter plot du nombre de transaction total en fonction de l'age\")\n",
    "plt.xlabel('age')\n",
    "plt.ylabel('nombre de transaction total')"
   ]
  },
  {
   "cell_type": "code",
   "execution_count": 76,
   "id": "47a802af",
   "metadata": {},
   "outputs": [
    {
     "name": "stdout",
     "output_type": "stream",
     "text": [
      "           count  pourcentage\n",
      "age                          \n",
      "(18, 30]   63445     9.579785\n",
      "(30, 50]  406729    61.413451\n",
      "(50, 93]  177242    26.762397\n"
     ]
    }
   ],
   "source": [
    "#Tableau du nombre de transaction total en fonction de 3 intervalles d'age\n",
    "ages =[18, 30, 50, 93]\n",
    "age_groups3 = pd.cut(transactionsv2_age_grouped2['age'], bins=ages)\n",
    "transactionsv2_age_count_intervalle = transactionsv2_age_grouped2.groupby(age_groups3)[['count','pourcentage']].sum()\n",
    "print(transactionsv2_age_count_intervalle)"
   ]
  },
  {
   "cell_type": "code",
   "execution_count": 77,
   "id": "2b8633e1",
   "metadata": {},
   "outputs": [
    {
     "data": {
      "image/png": "[encoded data removed]",
      "text/plain": [
       "<Figure size 864x432 with 1 Axes>"
      ]
     },
     "metadata": {},
     "output_type": "display_data"
    }
   ],
   "source": [
    "label3 = transactionsv2_age_count_intervalle.index\n",
    "size3 = transactionsv2_age_count_intervalle['pourcentage']\n",
    "explode = (0.06, 0, 0)\n",
    "\n",
    "fig1, ax1 = plt.subplots(figsize=(12,6))\n",
    "ax1.pie(size3, explode=explode, labels=label3, autopct='%1.1f%%', shadow=False,)\n",
    "\n",
    "ax1.axis('equal') \n",
    "plt.title('Répartition du nombre de transaction selon intervalle age')\n",
    "plt.show()"
   ]
  },
  {
   "cell_type": "code",
   "execution_count": 78,
   "id": "f8251c5f",
   "metadata": {},
   "outputs": [
    {
     "name": "stdout",
     "output_type": "stream",
     "text": [
      "    age  categ0  categ1  categ2  Total   % categ0   % categ1   % categ2\n",
      "0    18    3298    5719    5847  14864  22.187836  38.475511  39.336652\n",
      "1    19     854    1678    1736   4268  20.009372  39.315839  40.674789\n",
      "2    20     969    1723    1795   4487  21.595721  38.399822  40.004457\n",
      "3    21     942    1550    1685   4177  22.552071  37.107972  40.339957\n",
      "4    22    1060    1628    1640   4328  24.491682  37.615527  37.892791\n",
      "..  ...     ...     ...     ...    ...        ...        ...        ...\n",
      "71   89     137     183       1    321  42.679128  57.009346   0.311526\n",
      "72   90     119     177       2    298  39.932886  59.395973   0.671141\n",
      "73   91      73      91       2    166  43.975904  54.819277   1.204819\n",
      "74   92      74     149       2    225  32.888889  66.222222   0.888889\n",
      "75   93      77     122       1    200  38.500000  61.000000   0.500000\n",
      "\n",
      "[76 rows x 8 columns]\n"
     ]
    }
   ],
   "source": [
    "#Tableau du nombre de transaction par catégories et selon l'age\n",
    "transactionsv2_products_cate = transactionsv2_products_customersv1[['categ','age']]\n",
    "\n",
    "transactionsv2_products_cate0 = transactionsv2_products_cate[transactionsv2_products_cate.categ == 0]\n",
    "transactionsv2_products_cate0 = transactionsv2_products_cate0.groupby(by=\"age\",as_index=False).count()\n",
    "transactionsv2_products_cate0.rename(columns = {'categ':'categ0'}, inplace = True)\n",
    "\n",
    "transactionsv2_products_cate1 = transactionsv2_products_cate[transactionsv2_products_cate.categ == 1]\n",
    "transactionsv2_products_cate1 = transactionsv2_products_cate1.groupby(by=\"age\",as_index=False).count()\n",
    "transactionsv2_products_cate1.rename(columns = {'categ':'categ1'}, inplace = True)\n",
    "\n",
    "transactionsv2_products_cate2 = transactionsv2_products_cate[transactionsv2_products_cate.categ == 2]\n",
    "transactionsv2_products_cate2 = transactionsv2_products_cate2.groupby(by=\"age\",as_index=False).count()\n",
    "transactionsv2_products_cate2.rename(columns = {'categ':'categ2'}, inplace = True)\n",
    "\n",
    "transactionsv2_products_cate0_1 = pd.merge(transactionsv2_products_cate0,transactionsv2_products_cate1,on='age')\n",
    "transactionsv2_products_categ = pd.merge(transactionsv2_products_cate0_1,transactionsv2_products_cate2,on='age')\n",
    "transactionsv2_products_categ['Total']=transactionsv2_products_categ['categ0']+transactionsv2_products_categ['categ1']+transactionsv2_products_categ['categ2']\n",
    "transactionsv2_products_categ['% categ0']=100 * (transactionsv2_products_categ['categ0'] / transactionsv2_products_categ['Total'])\n",
    "transactionsv2_products_categ['% categ1']=100 * (transactionsv2_products_categ['categ1'] / transactionsv2_products_categ['Total'])\n",
    "transactionsv2_products_categ['% categ2']=100 * (transactionsv2_products_categ['categ2'] / transactionsv2_products_categ['Total'])\n",
    "\n",
    "print(transactionsv2_products_categ)\n"
   ]
  },
  {
   "cell_type": "code",
   "execution_count": 79,
   "id": "0785aae2-a4e6-4a1b-9110-348f9d96ce49",
   "metadata": {},
   "outputs": [
    {
     "data": {
      "text/plain": [
       "Text(0, 0.5, 'nombre de transaction total')"
      ]
     },
     "execution_count": 79,
     "metadata": {},
     "output_type": "execute_result"
    },
    {
     "data": {
      "image/png": "[encoded data removed]",
      "text/plain": [
       "<Figure size 576x396 with 1 Axes>"
      ]
     },
     "metadata": {},
     "output_type": "display_data"
    }
   ],
   "source": [
    "x=transactionsv2_products_categ['age']\n",
    "y=transactionsv2_products_categ['categ0']\n",
    "plt.scatter(x,y)\n",
    "plt.title(\"Scatter plot du nombre de transaction de categorie 0 en fonction de l'age\")\n",
    "plt.xlabel('age')\n",
    "plt.ylabel('nombre de transaction total')"
   ]
  },
  {
   "cell_type": "code",
   "execution_count": 91,
   "id": "b0b92d96",
   "metadata": {},
   "outputs": [
    {
     "name": "stdout",
     "output_type": "stream",
     "text": [
      "          categ0   % categ0\n",
      "age                        \n",
      "(18, 30]   12730   3.185686\n",
      "(30, 50]  307157  76.866116\n",
      "(50, 93]   76415  19.122873\n"
     ]
    }
   ],
   "source": [
    "#Tableau du nombre de transaction total pour les produits de categorie 0 en fonction de 3 intervalles d'age\n",
    "ages =[18, 30, 50, 93]\n",
    "age_groups3 = pd.cut(transactionsv2_products_categ['age'], bins=ages)\n",
    "transactionsv2_products_cate0[\"% categ0\"]=100 * (transactionsv2_products_cate0['categ0']/sum(transactionsv2_products_cate0['categ0']))\n",
    "transactionsv2_products_categ0_intervalle = transactionsv2_products_cate0.groupby(age_groups3)[['categ0',\"% categ0\"]].sum()\n",
    "print(transactionsv2_products_categ0_intervalle)"
   ]
  },
  {
   "cell_type": "code",
   "execution_count": 80,
   "id": "2b11561e",
   "metadata": {},
   "outputs": [
    {
     "data": {
      "text/plain": [
       "Text(0, 0.5, 'nombre de transaction total')"
      ]
     },
     "execution_count": 80,
     "metadata": {},
     "output_type": "execute_result"
    },
    {
     "data": {
      "image/png": "[encoded data removed]",
      "text/plain": [
       "<Figure size 576x396 with 1 Axes>"
      ]
     },
     "metadata": {},
     "output_type": "display_data"
    }
   ],
   "source": [
    "x=transactionsv2_products_categ['age']\n",
    "y=transactionsv2_products_categ['categ1']\n",
    "plt.scatter(x,y)\n",
    "plt.title(\"Scatter plot du nombre de transaction de categorie 1 en fonction de l'age\")\n",
    "plt.xlabel('age')\n",
    "plt.ylabel('nombre de transaction total')"
   ]
  },
  {
   "cell_type": "code",
   "execution_count": 92,
   "id": "43de57f1",
   "metadata": {},
   "outputs": [
    {
     "name": "stdout",
     "output_type": "stream",
     "text": [
      "          categ1   % categ1\n",
      "age                        \n",
      "(18, 30]   24256  10.677513\n",
      "(30, 50]   98121  43.192953\n",
      "(50, 93]   99073  43.612025\n"
     ]
    }
   ],
   "source": [
    "#Tableau du nombre de transaction total pour les produits de categorie 1 en fonction de 3 intervalles d'age\n",
    "ages =[18, 30, 50, 93]\n",
    "age_groups3 = pd.cut(transactionsv2_products_categ['age'], bins=ages)\n",
    "transactionsv2_products_cate1[\"% categ1\"]=100 * (transactionsv2_products_cate1['categ1']/sum(transactionsv2_products_cate1['categ1']))\n",
    "transactionsv2_products_categ1_intervalle = transactionsv2_products_cate1.groupby(age_groups3)[['categ1',\"% categ1\"]].sum()\n",
    "print(transactionsv2_products_categ1_intervalle)"
   ]
  },
  {
   "cell_type": "code",
   "execution_count": 81,
   "id": "f3a492b3",
   "metadata": {},
   "outputs": [
    {
     "data": {
      "text/plain": [
       "Text(0, 0.5, 'nombre de transaction total')"
      ]
     },
     "execution_count": 81,
     "metadata": {},
     "output_type": "execute_result"
    },
    {
     "data": {
      "image/png": "[encoded data removed]",
      "text/plain": [
       "<Figure size 576x396 with 1 Axes>"
      ]
     },
     "metadata": {},
     "output_type": "display_data"
    }
   ],
   "source": [
    "x=transactionsv2_products_categ['age']\n",
    "y=transactionsv2_products_categ['categ2']\n",
    "plt.scatter(x,y)\n",
    "plt.title(\"Scatter plot du nombre de transaction de categorie 2 en fonction de l'age\")\n",
    "plt.xlabel('age')\n",
    "plt.ylabel('nombre de transaction total')"
   ]
  },
  {
   "cell_type": "code",
   "execution_count": 94,
   "id": "47d6c585",
   "metadata": {},
   "outputs": [
    {
     "name": "stdout",
     "output_type": "stream",
     "text": [
      "          categ2   % categ2\n",
      "age                        \n",
      "(18, 30]   26459  74.509307\n",
      "(30, 50]    1451   4.086058\n",
      "(50, 93]    1754   4.939315\n"
     ]
    }
   ],
   "source": [
    "#Tableau du nombre de transaction total pour les produits de categorie 2 en fonction de 3 intervalles d'age\n",
    "ages =[18, 30, 50, 93]\n",
    "age_groups3 = pd.cut(transactionsv2_products_categ['age'], bins=ages)\n",
    "transactionsv2_products_cate2[\"% categ2\"]=100 * (transactionsv2_products_cate2['categ2']/sum(transactionsv2_products_cate2['categ2']))\n",
    "transactionsv2_products_categ2_intervalle = transactionsv2_products_cate2.groupby(age_groups3)[['categ2',\"% categ2\"]].sum()\n",
    "print(transactionsv2_products_categ2_intervalle)"
   ]
  },
  {
   "cell_type": "markdown",
   "id": "8cde38cd",
   "metadata": {},
   "source": [
    "### Tests Statistiques"
   ]
  },
  {
   "cell_type": "code",
   "execution_count": null,
   "id": "3d58ca41",
   "metadata": {},
   "outputs": [],
   "source": []
  }
 ],
 "metadata": {
  "kernelspec": {
   "display_name": "Python 3 (ipykernel)",
   "language": "python",
   "name": "python3"
  },
  "language_info": {
   "codemirror_mode": {
    "name": "ipython",
    "version": 3
   },
   "file_extension": ".py",
   "mimetype": "text/x-python",
   "name": "python",
   "nbconvert_exporter": "python",
   "pygments_lexer": "ipython3",
   "version": "3.9.7"
  },
  "toc-showmarkdowntxt": false
 },
 "nbformat": 4,
 "nbformat_minor": 5
}
