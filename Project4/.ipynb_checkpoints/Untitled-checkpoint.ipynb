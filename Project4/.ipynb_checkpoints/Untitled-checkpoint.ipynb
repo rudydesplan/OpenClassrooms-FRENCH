{
 "cells": [
  {
   "cell_type": "markdown",
   "id": "10259844",
   "metadata": {},
   "source": [
    "# Réalisez une étude de santé publique avec Python\n",
    "\n"
   ]
  },
  {
   "cell_type": "markdown",
   "id": "acbc05f8",
   "metadata": {},
   "source": [
    " \n",
    " Les données sur lesquelles on aimerait particulièrement avoir des informations sont, pour l’année 2017 :"
   ]
  },
  {
   "cell_type": "code",
   "execution_count": 41,
   "id": "c220a83d",
   "metadata": {},
   "outputs": [],
   "source": [
    "#Importation des librairies Numpy et Pandas\n",
    "import numpy as np\n",
    "import pandas as pd\n",
    "pd.options.mode.chained_assignment = None  # default='warn'  # Remove a false-positive warning\n",
    "import csv"
   ]
  },
  {
   "cell_type": "code",
   "execution_count": 42,
   "id": "3b939c5b",
   "metadata": {},
   "outputs": [],
   "source": [
    "#On importe les fichiers necessaires \n",
    "sous_nutrition = pd.read_csv(\"C:/Users/rudy/Desktop/Data Analyst/Studies/OpenClassroom/P4/sous_nutrition.csv\")\n",
    "population = pd.read_csv(\"C:/Users/rudy/Desktop/Data Analyst/Studies/OpenClassroom/P4/population.csv\")\n",
    "dispo_alimentaire = pd.read_csv(\"C:/Users/rudy/Desktop/Data Analyst/Studies/OpenClassroom/P4/dispo_alimentaire.csv\")\n",
    "aide_alimentaire = pd.read_csv(\"C:/Users/rudy/Desktop/Data Analyst/Studies/OpenClassroom/P4/aide_alimentaire.csv\")"
   ]
  },
  {
   "cell_type": "markdown",
   "id": "4c8974a1",
   "metadata": {},
   "source": [
    "##### la proportion de personnes en état de sous-nutrition dans le monde en 2017"
   ]
  },
  {
   "cell_type": "code",
   "execution_count": 43,
   "id": "6325ee20",
   "metadata": {},
   "outputs": [
    {
     "name": "stdout",
     "output_type": "stream",
     "text": [
      "La population mondiale en 2017 est de : 7548134111.0 habitants\n"
     ]
    }
   ],
   "source": [
    "#Estimation de la population mondiale en 2017\n",
    "population['Valeur'] = population['Valeur'].astype('float64')\n",
    "pop_mond2017 = round((population['Valeur'][population['Année'] == 2017].sum())*1000.0,2)\n",
    "print(\"La population mondiale en 2017 est de :\",pop_mond2017, \"habitants\" )"
   ]
  },
  {
   "cell_type": "code",
   "execution_count": 44,
   "id": "34ddccb3",
   "metadata": {},
   "outputs": [
    {
     "name": "stdout",
     "output_type": "stream",
     "text": [
      "La population mondiale étant en sous-nutrition en 2017 est de : 535700000.0 habitants \n"
     ]
    }
   ],
   "source": [
    "#Estimation de la population mondiale étant en sous-nutrition en 2017\n",
    "#Les valeurs <0.1 seront considérées comme nulles dans nos calculs\n",
    "sous_nutrition['Valeur'] = sous_nutrition['Valeur'].replace('<0.1', 0)\n",
    "sous_nutrition['Valeur'] = sous_nutrition['Valeur'].astype('float64')\n",
    "pop_sousnut17 = round((sous_nutrition['Valeur'][sous_nutrition['Année'] == '2016-2018'].sum())*1e6,2)\n",
    "print(\"La population mondiale étant en sous-nutrition en 2017 est de :\",pop_sousnut17, \"habitants \" )"
   ]
  },
  {
   "cell_type": "code",
   "execution_count": 45,
   "id": "f62720d8",
   "metadata": {},
   "outputs": [
    {
     "name": "stdout",
     "output_type": "stream",
     "text": [
      "La Proportion de la population mondiale étant en sous-nutrition en 2017 est de : 7.1 %\n"
     ]
    }
   ],
   "source": [
    "#Proportion de la population mondiale étant en sous-nutrition en 2017\n",
    "proportion_pop_sousnut2017 = 100.0 * pop_sousnut17/pop_mond2017\n",
    "proportion_pop_sousnut2017 = round(proportion_pop_sousnut2017,2)\n",
    "print(\"La Proportion de la population mondiale étant en sous-nutrition en 2017 est de :\",proportion_pop_sousnut2017,\"%\")"
   ]
  },
  {
   "cell_type": "markdown",
   "id": "0f2d5bd3",
   "metadata": {},
   "source": [
    "#### le nombre théorique de personnes qui pourraient être nourries dans le monde en 2017"
   ]
  },
  {
   "cell_type": "code",
   "execution_count": 46,
   "id": "f4ff3abe",
   "metadata": {},
   "outputs": [],
   "source": [
    "# Calcul de la disponibilité alimentaire mondiale par personne par an en Kcal\n",
    "dispo_alim = dispo_alimentaire[[\"Zone\",\"Disponibilité alimentaire (Kcal/personne/jour)\"]]\n",
    "dispo_alim.rename(columns = {'Disponibilité alimentaire (Kcal/personne/jour)':'dispo_kcal_p_j'}, inplace = True)\n",
    "dispo_alim[\"dispo_kcal_p_an\"] = dispo_alim[\"dispo_kcal_p_j\"]*365\n",
    "dispo_alim_pays = dispo_alim.pivot_table(index=['Zone'], values=['dispo_kcal_p_an'], aggfunc='sum')\n",
    "#print(dispo_alim_pays)"
   ]
  },
  {
   "cell_type": "code",
   "execution_count": 47,
   "id": "b5035bce",
   "metadata": {},
   "outputs": [],
   "source": [
    "# Calcul de la population par pays en 2017\n",
    "population2017 = population[population[\"Année\"] == 2017]\n",
    "population2017[\"Valeur\"] = population2017[\"Valeur\"]*1000\n",
    "population2017.rename(columns = {'Valeur':'Population'}, inplace = True)\n",
    "#print(population2017)"
   ]
  },
  {
   "cell_type": "code",
   "execution_count": 48,
   "id": "e9015cd3",
   "metadata": {},
   "outputs": [
    {
     "name": "stdout",
     "output_type": "stream",
     "text": [
      "la disponibilité alimentaire mondiale par an est de :  7635429388975814.0  Kcal\n"
     ]
    }
   ],
   "source": [
    "# Création d'une nouvelle table a partir des 2 précédentes pour calculer la disponibilité alimentaire par an dans le monde\n",
    "dispo_alim_pays = pd.merge(dispo_alim_pays, population2017, on='Zone')\n",
    "dispo_alim_pays['dispo_alim_kcal'] = dispo_alim_pays['dispo_kcal_p_an']*dispo_alim_pays['Population']\n",
    "dispo_mond_alimentaire = round(dispo_alim_pays['dispo_alim_kcal'].sum(skipna=True),2)\n",
    "print(\"la disponibilité alimentaire mondiale par an est de : \",dispo_mond_alimentaire,\" Kcal\")"
   ]
  },
  {
   "cell_type": "code",
   "execution_count": 49,
   "id": "623062de",
   "metadata": {},
   "outputs": [
    {
     "name": "stdout",
     "output_type": "stream",
     "text": [
      "le nombre théorique de personnes qui pourraient être nourries par an est : 10254404229.08\n"
     ]
    }
   ],
   "source": [
    "# Il est recommandé de consommer 2040 Kcal par Jour\n",
    "Consommation_an_kcal = 2040*365\n",
    "humain_nourris_kcal = dispo_mond_alimentaire / Consommation_an_kcal\n",
    "print(\"le nombre théorique de personnes qui pourraient être nourries par an est :\",round(humain_nourris_kcal,2))"
   ]
  },
  {
   "cell_type": "markdown",
   "id": "7b5f9f0f",
   "metadata": {},
   "source": [
    "#### le nombre théorique de personnes qui pourraient être nourries avec des produits végétaux dans le monde en 2017"
   ]
  },
  {
   "cell_type": "code",
   "execution_count": 50,
   "id": "107c3d84",
   "metadata": {},
   "outputs": [],
   "source": [
    "# Calcul de la disponibilité alimentaire mondiale Végétale par personne par an en Kcal\n",
    "dispo_alim_veg = dispo_alimentaire[[\"Zone\",\"Origine\",\"Disponibilité alimentaire (Kcal/personne/jour)\"]]\n",
    "dispo_alim_veg.rename(columns = {'Disponibilité alimentaire (Kcal/personne/jour)':'dispo_kcal_p_j'}, inplace = True)\n",
    "dispo_alim_veg[\"dispo_kcal_p_an\"] = dispo_alim_veg[\"dispo_kcal_p_j\"]*365\n",
    "dispo_alim_veg = dispo_alim_veg[dispo_alim_veg[\"Origine\"] == 'vegetale']\n",
    "dispo_alim_veg = dispo_alim_veg.pivot_table(index=['Zone'], values=['dispo_kcal_p_an'], aggfunc='sum')\n",
    "#print(dispo_alim_veg)"
   ]
  },
  {
   "cell_type": "code",
   "execution_count": 51,
   "id": "2c8962df",
   "metadata": {},
   "outputs": [
    {
     "name": "stdout",
     "output_type": "stream",
     "text": [
      "la disponibilité alimentaire mondiale vegetale par an est de :  6300178937197865.0 Kcal\n"
     ]
    }
   ],
   "source": [
    "# Création d'une nouvelle table pour calculer la disponibilité alimentaire végétale par an dans le monde\n",
    "dispo_alim_veg = pd.merge(dispo_alim_veg, population2017, on='Zone')\n",
    "dispo_alim_veg['dispo_alim_kcal_veg'] = dispo_alim_veg['dispo_kcal_p_an']*dispo_alim_veg['Population']\n",
    "#print(dispo_alim_veg)\n",
    "dispo_mond_alimentaire_veg = round(dispo_alim_veg['dispo_alim_kcal_veg'].sum(skipna=True),2)\n",
    "print(\"la disponibilité alimentaire mondiale vegetale par an est de : \",dispo_mond_alimentaire_veg,\"Kcal\")"
   ]
  },
  {
   "cell_type": "code",
   "execution_count": 52,
   "id": "a8a76209",
   "metadata": {},
   "outputs": [
    {
     "name": "stdout",
     "output_type": "stream",
     "text": [
      "le nombre théorique de personnes qui pourraient être nourries par par an par des produits d'origine végétale est : 8461158927.21\n"
     ]
    }
   ],
   "source": [
    "# Il est recommandé de consommer 2040 Kcal par Jour\n",
    "humain_nourris_veg_kcal = dispo_mond_alimentaire_veg / Consommation_an_kcal\n",
    "print(\"le nombre théorique de personnes qui pourraient être nourries par par an par des produits d'origine végétale est :\",round(humain_nourris_veg_kcal,2))"
   ]
  },
  {
   "cell_type": "markdown",
   "id": "0789c783",
   "metadata": {},
   "source": [
    "### Utilisation de la disponibilité intérieure :"
   ]
  },
  {
   "cell_type": "code",
   "execution_count": 53,
   "id": "72c5779d",
   "metadata": {},
   "outputs": [
    {
     "name": "stdout",
     "output_type": "stream",
     "text": [
      "La diponibilite interieure mondiale est de : 9848994.0  Tonnes\n",
      "La diponibilite interieure mondiale est de : 9848994000.0  Kgs\n"
     ]
    }
   ],
   "source": [
    "# Calcul de La diponibilite interieure mondiale\n",
    "dispo_alimentaire_bis = dispo_alimentaire[[\"Zone\",\"Disponibilité intérieure\",\"Exportations - Quantité\",\"Importations - Quantité\",\"Nourriture\",\"Pertes\",\"Production\",\"Aliments pour animaux\",\"Semences\",\"Traitement\",\"Autres Utilisations\",\"Variation de stock\"]]\n",
    "dispo_int_mondT = dispo_alimentaire_bis['Disponibilité intérieure'].sum()\n",
    "dispo_int_mondKg = dispo_int_mondT*1000\n",
    "print(\"La diponibilite interieure mondiale est de :\",dispo_int_mondT,\" Tonnes\")\n",
    "print(\"La diponibilite interieure mondiale est de :\",dispo_int_mondKg,\" Kgs\")"
   ]
  },
  {
   "cell_type": "markdown",
   "id": "8a43d97c",
   "metadata": {},
   "source": [
    "##### Disponibilité intérieure = Production + Importations - Exportations + Evolutions des stocks\n",
    "##### Disponibilité intérieure = Nourriture +  Semences + Pertes + Aliments pour animaux + Autre utilisation + Traitement"
   ]
  },
  {
   "cell_type": "markdown",
   "id": "88065549",
   "metadata": {},
   "source": [
    "#### Part de la la disponibilité intérieure mondiale qui est attribuée à l’alimentation animale"
   ]
  },
  {
   "cell_type": "code",
   "execution_count": 54,
   "id": "b3e08f6f",
   "metadata": {},
   "outputs": [
    {
     "name": "stdout",
     "output_type": "stream",
     "text": [
      "La part de la disponibilité intérieure mondiale qui est attribuée à l’alimentation animale est :  13.24 %\n"
     ]
    }
   ],
   "source": [
    "Aliments_animaux_mond = dispo_alimentaire_bis['Aliments pour animaux'].sum()\n",
    "Part_alim_animale = Aliments_animaux_mond / dispo_int_mondT\n",
    "print(\"La part de la disponibilité intérieure mondiale qui est attribuée à l’alimentation animale est : \",round(Part_alim_animale*100.0,2), \"%\")"
   ]
  },
  {
   "cell_type": "markdown",
   "id": "3cd2bf51",
   "metadata": {},
   "source": [
    "#### Part de la la disponibilité intérieure mondiale qui est perdue"
   ]
  },
  {
   "cell_type": "code",
   "execution_count": 55,
   "id": "efa62d65",
   "metadata": {},
   "outputs": [
    {
     "name": "stdout",
     "output_type": "stream",
     "text": [
      "La part de la disponibilité mondiale intérieure qui est perdue est :  4.61 %\n"
     ]
    }
   ],
   "source": [
    "Pertes_mond = dispo_alimentaire_bis['Pertes'].sum()\n",
    "Part_pertes = Pertes_mond / dispo_int_mondT\n",
    "print(\"La part de la disponibilité mondiale intérieure qui est perdue est : \",round(Part_pertes*100.0,2), \"%\")"
   ]
  },
  {
   "cell_type": "markdown",
   "id": "d8af4fe7",
   "metadata": {},
   "source": [
    "#### Part de la la disponibilité intérieure mondiale qui est utilisée pour l'alimentation humaine"
   ]
  },
  {
   "cell_type": "code",
   "execution_count": 56,
   "id": "8c16ff62",
   "metadata": {},
   "outputs": [
    {
     "name": "stdout",
     "output_type": "stream",
     "text": [
      "La part de la disponibilité intérieure mondiale qui est utilisée pour l'alimentation humaine est :  49.51 %\n"
     ]
    }
   ],
   "source": [
    "Nourriture = dispo_alimentaire_bis['Nourriture'].sum()\n",
    "Part_nourriture = Nourriture / dispo_int_mondT\n",
    "print(\"La part de la disponibilité intérieure mondiale qui est utilisée pour l'alimentation humaine est : \",round(Part_nourriture*100.0,2), \"%\")"
   ]
  },
  {
   "cell_type": "markdown",
   "id": "57833eb6",
   "metadata": {},
   "source": [
    " ### les pays pour lesquels la proportion de personnes sous-alimentées est la plus forte en 2017"
   ]
  },
  {
   "cell_type": "code",
   "execution_count": 57,
   "id": "3c878b62",
   "metadata": {},
   "outputs": [
    {
     "name": "stdout",
     "output_type": "stream",
     "text": [
      "                                            Proportion sous_nut %\n",
      "Zone                                                             \n",
      "Haïti                                                       48.26\n",
      "République populaire démocratique de Corée                  47.19\n",
      "Madagascar                                                  41.06\n",
      "Libéria                                                     38.28\n",
      "Lesotho                                                     38.25\n",
      "Tchad                                                       37.96\n",
      "Rwanda                                                      35.06\n",
      "Mozambique                                                  32.81\n",
      "Timor-Leste                                                 32.17\n",
      "Afghanistan                                                 28.93\n",
      "Congo                                                       27.39\n"
     ]
    }
   ],
   "source": [
    "#Creation d'une Table avec la proportion de personnes sous-alimentées\n",
    "pop_sousnut17pays = sous_nutrition[sous_nutrition['Année'] == '2016-2018']\n",
    "pop_sousnut17pays[\"Valeur\"]=pop_sousnut17pays[\"Valeur\"]*1e6\n",
    "pop_sousnut17pays = pd.merge(pop_sousnut17pays[[\"Zone\",\"Valeur\"]], population2017, on='Zone')\n",
    "pop_sousnut17pays[\"Proportion sous_nut %\"]= round((pop_sousnut17pays[\"Valeur\"]/pop_sousnut17pays[\"Population\"])*100,2)\n",
    "pop_sousnut17pays = pop_sousnut17pays.sort_values(\"Proportion sous_nut %\",ascending=False)\n",
    "pop_sousnut17paysbis = pop_sousnut17pays.set_index(\"Zone\")\n",
    "print(pop_sousnut17paysbis.head(11)[[\"Proportion sous_nut %\"]])"
   ]
  },
  {
   "cell_type": "markdown",
   "id": "1d06d4c1",
   "metadata": {},
   "source": [
    "### les pays qui ont le plus bénéficié d’aide depuis 2013"
   ]
  },
  {
   "cell_type": "code",
   "execution_count": 58,
   "id": "a1633a31",
   "metadata": {},
   "outputs": [
    {
     "name": "stdout",
     "output_type": "stream",
     "text": [
      "                                   Valeur\n",
      "Pays bénéficiaire                        \n",
      "République arabe syrienne         1858943\n",
      "Éthiopie                          1381294\n",
      "Yémen                             1206484\n",
      "Soudan du Sud                      695248\n",
      "Soudan                             669784\n",
      "Kenya                              552836\n",
      "Bangladesh                         348188\n",
      "Somalie                            292678\n",
      "République démocratique du Congo   288502\n",
      "Niger                              276344\n",
      "Tchad                              267966\n"
     ]
    }
   ],
   "source": [
    "#Creation d'un pivot table \n",
    "aide_alimentaire_pays = aide_alimentaire.pivot_table(index=[\"Pays bénéficiaire\"],values=['Valeur'], aggfunc='sum')\n",
    "aide_alimentaire_pays_plus = aide_alimentaire_pays.sort_values(\"Valeur\",ascending=False)\n",
    "print(aide_alimentaire_pays_plus.head(11))"
   ]
  },
  {
   "cell_type": "markdown",
   "id": "96e481fd",
   "metadata": {},
   "source": [
    "### les pays qui ont le moins bénéficié d’aide depuis 2013"
   ]
  },
  {
   "cell_type": "code",
   "execution_count": 59,
   "id": "27429285",
   "metadata": {},
   "outputs": [
    {
     "name": "stdout",
     "output_type": "stream",
     "text": [
      "                                 Valeur\n",
      "Pays bénéficiaire                      \n",
      "Bolivie (État plurinational de)       6\n",
      "Géorgie                              70\n",
      "Timor-Leste                         116\n",
      "Vanuatu                             802\n",
      "Égypte                             1122\n",
      "Chine, continentale                1298\n",
      "Équateur                           1362\n",
      "Sao Tomé-et-Principe               1826\n",
      "Tadjikistan                        2028\n",
      "Bhoutan                            2666\n",
      "Zambie                             3026\n"
     ]
    }
   ],
   "source": [
    "aide_alimentaire_pays_moins = aide_alimentaire_pays.sort_values(\"Valeur\",ascending=True)\n",
    "print(aide_alimentaire_pays_moins.head(11))"
   ]
  },
  {
   "cell_type": "markdown",
   "id": "ea3fbf1a",
   "metadata": {},
   "source": [
    "### les pays qui ont le plus de disponibilité alimentaire par habitant en 2017"
   ]
  },
  {
   "cell_type": "code",
   "execution_count": 60,
   "id": "aeb503f3",
   "metadata": {},
   "outputs": [
    {
     "name": "stdout",
     "output_type": "stream",
     "text": [
      "                       dispo_alim_kcal\n",
      "Zone                                  \n",
      "Autriche                  1.213662e+13\n",
      "Belgique                  1.557659e+13\n",
      "Turquie                   1.097846e+14\n",
      "États-Unis d'Amérique     4.368912e+14\n",
      "Israël                    1.086251e+13\n",
      "Irlande                   6.249278e+12\n",
      "Italie                    7.923803e+13\n",
      "Luxembourg                7.648069e+11\n",
      "Égypte                    1.238390e+14\n",
      "Allemagne                 1.056866e+14\n",
      "Canada                    4.691184e+13\n"
     ]
    }
   ],
   "source": [
    "print((dispo_alim_pays.sort_values(\"dispo_kcal_p_an\",ascending=False)[[\"Zone\",\"dispo_alim_kcal\"]]).head(11).set_index(\"Zone\"))"
   ]
  },
  {
   "cell_type": "markdown",
   "id": "d1c22246",
   "metadata": {},
   "source": [
    "### les pays qui ont le moins de disponibilité alimentaire par habitant en 2017"
   ]
  },
  {
   "cell_type": "code",
   "execution_count": 61,
   "id": "2e334a12",
   "metadata": {},
   "outputs": [
    {
     "name": "stdout",
     "output_type": "stream",
     "text": [
      "                                            dispo_alim_kcal\n",
      "Zone                                                       \n",
      "République centrafricaine                      3.152113e+12\n",
      "Zambie                                         1.183561e+13\n",
      "Madagascar                                     1.918914e+13\n",
      "Afghanistan                                    2.764875e+13\n",
      "Haïti                                          8.373889e+12\n",
      "République populaire démocratique de Corée     1.942699e+13\n",
      "Tchad                                          1.155967e+13\n",
      "Zimbabwe                                       1.097990e+13\n",
      "Ouganda                                        3.194486e+13\n",
      "Timor-Leste                                    9.661171e+11\n",
      "Éthiopie                                       8.268178e+13\n"
     ]
    }
   ],
   "source": [
    "print((dispo_alim_pays.sort_values(\"dispo_kcal_p_an\",ascending=True)[[\"Zone\",\"dispo_alim_kcal\"]]).head(11).set_index(\"Zone\"))"
   ]
  },
  {
   "cell_type": "markdown",
   "id": "c934391d",
   "metadata": {},
   "source": [
    "#### Quelle quantité de Manioc est exportée en Thailande "
   ]
  },
  {
   "cell_type": "code",
   "execution_count": 62,
   "id": "3e645249",
   "metadata": {},
   "outputs": [
    {
     "name": "stdout",
     "output_type": "stream",
     "text": [
      "La Thailande produit : 30228000.0 Tonnes de Manioc\n",
      "La Thailande exporte : 25214000.0 Tonnes de Manioc\n",
      "La Thailande exporte : 83.41 % de sa production de Manioc\n",
      "La Thailande utilise : 2.88 % de sa production de Manioc a des fins humaines\n",
      "La Thailande a 8.96 % de sa population en sous-nutrition\n"
     ]
    }
   ],
   "source": [
    "thailande_manioc = dispo_alimentaire[(dispo_alimentaire[\"Zone\"]==\"Thaïlande\") & (dispo_alimentaire[\"Produit\"]==\"Manioc\")]\n",
    "export_manioc_thailande = thailande_manioc[\"Exportations - Quantité\"].sum(skipna=True)*1000\n",
    "prod_manioc_thailande = thailande_manioc[\"Production\"].sum(skipna=True)*1000\n",
    "ratio_exp_prod = 100*export_manioc_thailande/prod_manioc_thailande\n",
    "utilisation_humaine_manioc = thailande_manioc[\"Nourriture\"].sum(skipna=True)*1000\n",
    "ratio_utilisation_humaine = 100*utilisation_humaine_manioc/prod_manioc_thailande\n",
    "print(\"La Thailande produit :\",prod_manioc_thailande,\"Tonnes de Manioc\")\n",
    "print(\"La Thailande exporte :\",export_manioc_thailande,\"Tonnes de Manioc\")\n",
    "print(\"La Thailande exporte :\",round(ratio_exp_prod,2),\"% de sa production de Manioc\")\n",
    "print(\"La Thailande utilise :\",round(ratio_utilisation_humaine,2),\"% de sa production de Manioc a des fins humaines\")\n",
    "Thailande = pop_sousnut17pays[pop_sousnut17pays[\"Zone\"]==\"Thaïlande\"]\n",
    "print(\"La Thailande a\",Thailande.loc[185,'Proportion sous_nut %'],\"% de sa population en sous-nutrition\")"
   ]
  },
  {
   "cell_type": "markdown",
   "id": "b50fb10a",
   "metadata": {},
   "source": [
    "#### Utilisation des céréales dans le monde et par pays\n",
    "la liste des produits considéré comme des céréales selon la FAO est :\n",
    "                  Blé\n",
    "     Riz (Eq Blanchi)\n",
    "                 Orge\n",
    "                 Maïs\n",
    "               Millet\n",
    "               Seigle\n",
    "              Avoine\n",
    "              Sorgho\n",
    "    Céréales, Autres"
   ]
  },
  {
   "cell_type": "code",
   "execution_count": 74,
   "id": "9791909f",
   "metadata": {},
   "outputs": [
    {
     "name": "stdout",
     "output_type": "stream",
     "text": [
      "                       Aliments pour animaux  Autres Utilisations  Nourriture  \\\n",
      "Zone                                                                            \n",
      "Afghanistan                            560.0                  0.0      5494.0   \n",
      "Afrique du Sud                        4824.0                  0.0      9503.0   \n",
      "Albanie                                411.0                134.0       474.0   \n",
      "Algérie                               4337.0                820.0      8535.0   \n",
      "Allemagne                            26615.0               1013.0      9191.0   \n",
      "...                                      ...                  ...         ...   \n",
      "Émirats arabes unis                   1053.0                263.0      1484.0   \n",
      "Équateur                               847.0                787.0      1505.0   \n",
      "États-Unis d'Amérique               140096.0             137181.0     33810.0   \n",
      "Éthiopie                               667.0               3569.0     14158.0   \n",
      "Îles Salomon                             0.0                 12.0        50.0   \n",
      "\n",
      "                       % utilisation humaine  % utilisation animale  \n",
      "Zone                                                                 \n",
      "Afghanistan                            90.75                   9.25  \n",
      "Afrique du Sud                         66.33                  33.67  \n",
      "Albanie                                46.52                  40.33  \n",
      "Algérie                                62.34                  31.68  \n",
      "Allemagne                              24.96                  72.29  \n",
      "...                                      ...                    ...  \n",
      "Émirats arabes unis                    53.00                  37.61  \n",
      "Équateur                               47.95                  26.98  \n",
      "États-Unis d'Amérique                  10.87                  45.03  \n",
      "Éthiopie                               76.97                   3.63  \n",
      "Îles Salomon                           80.65                   0.00  \n",
      "\n",
      "[174 rows x 5 columns]\n"
     ]
    }
   ],
   "source": [
    "liste_cereales=[\"Blé\",\"Riz (Eq Blanchi)\",\"Orge\",\"Maïs\",\"Millet\",\"Seigle\",\"Avoine\",\"Sorgho\",\"Céréales, Autres\"]\n",
    "utilisation_alim = dispo_alimentaire[[\"Zone\",\"Produit\",\"Aliments pour animaux\",\"Autres Utilisations\",\"Nourriture\"]]\n",
    "utilisation_cereales = utilisation_alim[utilisation_alim[\"Produit\"].isin(liste_cereales)]\n",
    "utilisation_cereales_pays = utilisation_cereales.pivot_table(index=[\"Zone\"], aggfunc='sum')\n",
    "utilisation_cereales_pays[\"% utilisation humaine\"]=round(100*utilisation_cereales_pays[\"Nourriture\"]/(utilisation_cereales_pays[\"Aliments pour animaux\"]+utilisation_cereales_pays[\"Autres Utilisations\"]+utilisation_cereales_pays[\"Nourriture\"]),2)\n",
    "utilisation_cereales_pays[\"% utilisation animale\"]=round(100*utilisation_cereales_pays[\"Aliments pour animaux\"]/(utilisation_cereales_pays[\"Aliments pour animaux\"]+utilisation_cereales_pays[\"Autres Utilisations\"]+utilisation_cereales_pays[\"Nourriture\"]),2)\n",
    "print(utilisation_cereales_pays)"
   ]
  },
  {
   "cell_type": "markdown",
   "id": "49a52281",
   "metadata": {},
   "source": [
    "### Les pays qui utilisent les plus les céréales pour une utilisation animale sont "
   ]
  },
  {
   "cell_type": "code",
   "execution_count": 76,
   "id": "994d6152",
   "metadata": {},
   "outputs": [
    {
     "name": "stdout",
     "output_type": "stream",
     "text": [
      "          Aliments pour animaux  Autres Utilisations  Nourriture  \\\n",
      "Zone                                                               \n",
      "Danemark                 6649.0                 23.0       737.0   \n",
      "Bélarus                  5356.0                 38.0      1040.0   \n",
      "Irlande                  2861.0                  8.0       584.0   \n",
      "Canada                  23905.0                950.0      4200.0   \n",
      "Espagne                 24926.0               1190.0      4971.0   \n",
      "Serbie                   4956.0                  2.0      1277.0   \n",
      "Croatie                  1990.0                  0.0       520.0   \n",
      "Hongrie                  4273.0                  7.0      1143.0   \n",
      "Ukraine                 19890.0                 36.0      6261.0   \n",
      "Pays-Bas                 7566.0               1105.0      1489.0   \n",
      "Suède                    2901.0                 25.0       971.0   \n",
      "\n",
      "          % utilisation humaine  % utilisation animale  \n",
      "Zone                                                    \n",
      "Danemark                   9.95                  89.74  \n",
      "Bélarus                   16.16                  83.25  \n",
      "Irlande                   16.91                  82.86  \n",
      "Canada                    14.46                  82.27  \n",
      "Espagne                   15.99                  80.18  \n",
      "Serbie                    20.48                  79.49  \n",
      "Croatie                   20.72                  79.28  \n",
      "Hongrie                   21.08                  78.79  \n",
      "Ukraine                   23.91                  75.95  \n",
      "Pays-Bas                  14.66                  74.47  \n",
      "Suède                     24.92                  74.44  \n"
     ]
    }
   ],
   "source": [
    "print(utilisation_cereales_pays.sort_values(\"% utilisation animale\",ascending=False).head(11))"
   ]
  },
  {
   "cell_type": "markdown",
   "id": "7ad053c9",
   "metadata": {},
   "source": [
    "### Les pays qui utilisent les moins les céréales pour une utilisation animale sont "
   ]
  },
  {
   "cell_type": "code",
   "execution_count": 77,
   "id": "8eb70e25",
   "metadata": {},
   "outputs": [
    {
     "name": "stdout",
     "output_type": "stream",
     "text": [
      "                      Aliments pour animaux  Autres Utilisations  Nourriture  \\\n",
      "Zone                                                                           \n",
      "Îles Salomon                            0.0                 12.0        50.0   \n",
      "Kiribati                                0.0                  1.0        12.0   \n",
      "Chine - RAS de Macao                    0.0                  8.0        54.0   \n",
      "Maldives                                0.0                 15.0        45.0   \n",
      "Dominique                               0.0                  1.0         6.0   \n",
      "Rwanda                                  0.0                  0.0       532.0   \n",
      "Bermudes                                0.0                  3.0         4.0   \n",
      "Saint-Kitts-et-Nevis                    0.0                  1.0         4.0   \n",
      "Sainte-Lucie                            0.0                  2.0        20.0   \n",
      "Bahamas                                 0.0                 15.0        27.0   \n",
      "Samoa                                   0.0                  2.0        13.0   \n",
      "\n",
      "                      % utilisation humaine  % utilisation animale  \n",
      "Zone                                                                \n",
      "Îles Salomon                          80.65                    0.0  \n",
      "Kiribati                              92.31                    0.0  \n",
      "Chine - RAS de Macao                  87.10                    0.0  \n",
      "Maldives                              75.00                    0.0  \n",
      "Dominique                             85.71                    0.0  \n",
      "Rwanda                               100.00                    0.0  \n",
      "Bermudes                              57.14                    0.0  \n",
      "Saint-Kitts-et-Nevis                  80.00                    0.0  \n",
      "Sainte-Lucie                          90.91                    0.0  \n",
      "Bahamas                               64.29                    0.0  \n",
      "Samoa                                 86.67                    0.0  \n"
     ]
    }
   ],
   "source": [
    "print(utilisation_cereales_pays.sort_values(\"% utilisation animale\",ascending=True).head(11))"
   ]
  },
  {
   "cell_type": "markdown",
   "id": "2def92b2",
   "metadata": {},
   "source": [
    "### Utilisation des céréales dans le monde"
   ]
  },
  {
   "cell_type": "code",
   "execution_count": 91,
   "id": "0a3ad501",
   "metadata": {},
   "outputs": [
    {
     "name": "stdout",
     "output_type": "stream",
     "text": [
      "L'utilisation des céréales a des fins animales dans le monde est de : 40.87 %\n",
      "L'utilisation des céréales a des fins humaines dans le monde est de : 48.14 %\n"
     ]
    }
   ],
   "source": [
    "cereales_mond_ani = utilisation_cereales_pays['Aliments pour animaux'].sum()\n",
    "cereales_mond_hum = utilisation_cereales_pays['Nourriture'].sum()\n",
    "cereales_mond_autres = utilisation_cereales_pays['Autres Utilisations'].sum()\n",
    "utilisation_cereales_mond_ani= round(100*cereales_mond_ani/(cereales_mond_ani+cereales_mond_hum+cereales_mond_autres),2)\n",
    "utilisation_cereales_mond_hum= round(100*cereales_mond_hum/(cereales_mond_ani+cereales_mond_hum+cereales_mond_autres),2)\n",
    "print(\"L'utilisation des céréales a des fins animales dans le monde est de :\",utilisation_cereales_mond_ani,\"%\")\n",
    "print(\"L'utilisation des céréales a des fins humaines dans le monde est de :\",utilisation_cereales_mond_hum,\"%\")"
   ]
  }
 ],
 "metadata": {
  "kernelspec": {
   "display_name": "Python 3",
   "language": "python",
   "name": "python3"
  },
  "language_info": {
   "codemirror_mode": {
    "name": "ipython",
    "version": 3
   },
   "file_extension": ".py",
   "mimetype": "text/x-python",
   "name": "python",
   "nbconvert_exporter": "python",
   "pygments_lexer": "ipython3",
   "version": "3.8.8"
  }
 },
 "nbformat": 4,
 "nbformat_minor": 5
}
