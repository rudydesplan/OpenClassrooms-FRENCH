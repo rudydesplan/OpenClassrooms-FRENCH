{
 "cells": [
  {
   "cell_type": "code",
   "execution_count": 2,
   "id": "90dbe039",
   "metadata": {},
   "outputs": [],
   "source": [
    "import pandas as pd\n",
    "import scipy.stats as stats\n",
    "import numpy as np\n",
    "import matplotlib.pyplot as plt\n",
    "import warnings\n",
    "warnings.simplefilter(\"ignore\")"
   ]
  },
  {
   "cell_type": "markdown",
   "id": "a0444775",
   "metadata": {},
   "source": [
    "### Creation des dataframes à partir des fichiers CSV"
   ]
  },
  {
   "cell_type": "code",
   "execution_count": 19,
   "id": "0fdd2a13",
   "metadata": {},
   "outputs": [],
   "source": [
    "erp = pd.read_excel(\"C:/Users/rudy/Desktop/Data Analyst/FRANCE/OpenClassroom/P5/erp.xlsx\")\n",
    "erp.sort_values(by=\"product_id\", inplace = True)\n",
    "liaison = pd.read_excel(\"C:/Users/rudy/Desktop/Data Analyst/FRANCE/OpenClassroom/P5/liaison.xlsx\")\n",
    "liaison.sort_values(by=\"product_id\", inplace = True)\n",
    "liaison.rename(columns={\"id_web\": \"sku\"},inplace=True)\n",
    "web = pd.read_excel(\"C:/Users/rudy/Desktop/Data Analyst/FRANCE/OpenClassroom/P5/web.xlsx\")"
   ]
  },
  {
   "cell_type": "markdown",
   "id": "227876f3",
   "metadata": {},
   "source": [
    "### Création d'une fonction pour tester l'unicité de colonnes que l'on peut utiliser comme clé primaire"
   ]
  },
  {
   "cell_type": "code",
   "execution_count": 20,
   "id": "21b4b138",
   "metadata": {},
   "outputs": [],
   "source": [
    "def testCle(df, colonnes):\n",
    "    \"\"\"Fonction qui prend en arguments un dataframe et les colonnes qui composent la clé primaire à tester.\"\"\"\n",
    "\n",
    "    # On compare la taille du dataframe avant et après dédoublonnage \n",
    "    if df.size == df.drop_duplicates(colonnes).size :\n",
    "        print(\"La clé n'est pas présente plusieurs fois dans le dataframe.\")\n",
    "        print(\"Elle peut donc être utilisée comme clé primaire.\".format(colonnes))\n",
    "    else :\n",
    "        print(\"La clé est présente plusieurs fois dans le dataframe.\")\n",
    "        print(\"Elle ne peut donc pas être utilisée comme clé primaire.\".format(colonnes))"
   ]
  },
  {
   "cell_type": "markdown",
   "id": "f484f849",
   "metadata": {},
   "source": [
    "### Test de la colonne product_id comme clée primaire"
   ]
  },
  {
   "cell_type": "code",
   "execution_count": 5,
   "id": "d056e73e",
   "metadata": {},
   "outputs": [
    {
     "name": "stdout",
     "output_type": "stream",
     "text": [
      "La clé n'est pas présente plusieurs fois dans le dataframe.\n",
      "Elle peut donc être utilisée comme clé primaire.\n"
     ]
    }
   ],
   "source": [
    "testCle(erp,[\"product_id\"])"
   ]
  },
  {
   "cell_type": "markdown",
   "id": "2c9a64e7",
   "metadata": {},
   "source": [
    "### Print afin d'avoir un apercu de la table erp"
   ]
  },
  {
   "cell_type": "code",
   "execution_count": 6,
   "id": "6840f4b2",
   "metadata": {},
   "outputs": [
    {
     "name": "stdout",
     "output_type": "stream",
     "text": [
      "   product_id  onsale_web  price  stock_quantity stock_status\n",
      "0        3847           1   24.2               0   outofstock\n",
      "1        3849           1   34.3               0   outofstock\n",
      "2        3850           1   20.8               0   outofstock\n",
      "3        4032           1   14.1               0   outofstock\n",
      "4        4039           1   46.0               0   outofstock\n",
      "5        4040           1   34.3               0   outofstock\n",
      "\n",
      "     product_id  onsale_web  price  stock_quantity stock_status\n",
      "819        7201           0   31.0              18      instock\n",
      "820        7203           0   45.0              30      instock\n",
      "821        7204           0   45.0               9      instock\n",
      "822        7247           1   54.8              23      instock\n",
      "823        7329           0   26.5              14      instock\n",
      "824        7338           1   16.3              45      instock\n"
     ]
    }
   ],
   "source": [
    "print(erp.head(6))\n",
    "print()\n",
    "print(erp.tail(6))"
   ]
  },
  {
   "cell_type": "markdown",
   "id": "b4777c8b",
   "metadata": {},
   "source": [
    "### Test de la colonne sku comme clée primaire"
   ]
  },
  {
   "cell_type": "code",
   "execution_count": 7,
   "id": "2768632e",
   "metadata": {},
   "outputs": [
    {
     "name": "stdout",
     "output_type": "stream",
     "text": [
      "La clé est présente plusieurs fois dans le dataframe.\n",
      "Elle ne peut donc pas être utilisée comme clé primaire.\n"
     ]
    }
   ],
   "source": [
    "testCle(liaison,[\"sku\"])"
   ]
  },
  {
   "cell_type": "markdown",
   "id": "e2b5b26b",
   "metadata": {},
   "source": [
    "### Print afin d'avoir un apercu de la table liaison"
   ]
  },
  {
   "cell_type": "code",
   "execution_count": 8,
   "id": "cb9992e8",
   "metadata": {},
   "outputs": [
    {
     "name": "stdout",
     "output_type": "stream",
     "text": [
      "   product_id    sku\n",
      "0        3847  15298\n",
      "1        3849  15296\n",
      "2        3850  15300\n",
      "3        4032  19814\n",
      "4        4039  19815\n",
      "5        4040  15303\n",
      "\n",
      "     product_id      sku\n",
      "819        7201      NaN\n",
      "820        7203      NaN\n",
      "821        7204      NaN\n",
      "822        7247  13127-1\n",
      "823        7329  14680-1\n",
      "824        7338    16230\n"
     ]
    }
   ],
   "source": [
    "print(liaison.head(6))\n",
    "print()\n",
    "print(liaison.tail(6))"
   ]
  },
  {
   "cell_type": "markdown",
   "id": "0295bf01",
   "metadata": {},
   "source": [
    "### Test de la colonne sku comme clée primaire"
   ]
  },
  {
   "cell_type": "code",
   "execution_count": 9,
   "id": "e436963f",
   "metadata": {},
   "outputs": [
    {
     "name": "stdout",
     "output_type": "stream",
     "text": [
      "La clé est présente plusieurs fois dans le dataframe.\n",
      "Elle ne peut donc pas être utilisée comme clé primaire.\n"
     ]
    }
   ],
   "source": [
    "testCle(web,[\"sku\"])"
   ]
  },
  {
   "cell_type": "markdown",
   "id": "51dd7796",
   "metadata": {},
   "source": [
    "### Print afin d'avoir un apercu de la table web"
   ]
  },
  {
   "cell_type": "code",
   "execution_count": 10,
   "id": "bde4a479",
   "metadata": {},
   "outputs": [
    {
     "name": "stdout",
     "output_type": "stream",
     "text": [
      "                   sku  virtual  downloadable  rating_count  average_rating  \\\n",
      "0  bon-cadeau-25-euros        0             0             0             0.0   \n",
      "1                15298        0             0             0             0.0   \n",
      "2                15296        0             0             0             0.0   \n",
      "3                15300        0             0             0             0.0   \n",
      "4                19814        0             0             0             0.0   \n",
      "5                19815        0             0             0             0.0   \n",
      "\n",
      "   total_sales tax_status  tax_class  post_author           post_date  ...  \\\n",
      "0         10.0    taxable        NaN          1.0 2018-06-01 13:53:46  ...   \n",
      "1          6.0    taxable        NaN          2.0 2018-02-08 12:58:52  ...   \n",
      "2          0.0    taxable        NaN          2.0 2018-02-08 13:49:41  ...   \n",
      "3          0.0    taxable        NaN          2.0 2018-02-08 14:08:36  ...   \n",
      "4          3.0    taxable        NaN          2.0 2018-02-09 14:01:05  ...   \n",
      "5          0.0    taxable        NaN          2.0 2018-02-12 09:04:37  ...   \n",
      "\n",
      "                                           post_name       post_modified  \\\n",
      "0                             bon-cadeau-de-25-euros 2018-06-01 14:13:57   \n",
      "1        pierre-jean-villa-saint-joseph-preface-2018 2019-12-30 09:30:29   \n",
      "2          pierre-jean-villa-saint-joseph-tilde-2017 2019-12-21 09:00:17   \n",
      "3  pierre-jean-villa-croze-hermitage-accroche-coe... 2020-06-26 18:15:03   \n",
      "4                  pierre-jean-villa-igp-gamine-2018 2020-01-04 16:36:01   \n",
      "5          pierre-jean-villa-cote-rotie-carmina-2017 2020-01-04 16:36:10   \n",
      "\n",
      "    post_modified_gmt post_content_filtered post_parent  \\\n",
      "0 2018-06-01 12:13:57                   NaN         0.0   \n",
      "1 2019-12-30 08:30:29                   NaN         0.0   \n",
      "2 2019-12-21 08:00:17                   NaN         0.0   \n",
      "3 2020-06-26 16:15:03                   NaN         0.0   \n",
      "4 2020-01-04 15:36:01                   NaN         0.0   \n",
      "5 2020-01-04 15:36:10                   NaN         0.0   \n",
      "\n",
      "                                                guid menu_order  post_type  \\\n",
      "0  https://www.bottle-neck.fr/?post_type=product&...        0.0    product   \n",
      "1  https://www.bottle-neck.fr/?post_type=product&...        0.0    product   \n",
      "2  https://www.bottle-neck.fr/?post_type=product&...        0.0    product   \n",
      "3  https://www.bottle-neck.fr/?post_type=product&...        0.0    product   \n",
      "4  https://www.bottle-neck.fr/?post_type=product&...        0.0    product   \n",
      "5  https://www.bottle-neck.fr/?post_type=product&...        0.0    product   \n",
      "\n",
      "  post_mime_type comment_count  \n",
      "0            NaN           0.0  \n",
      "1            NaN           0.0  \n",
      "2            NaN           0.0  \n",
      "3            NaN           0.0  \n",
      "4            NaN           0.0  \n",
      "5            NaN           0.0  \n",
      "\n",
      "[6 rows x 28 columns]\n",
      "\n",
      "          sku  virtual  downloadable  rating_count  average_rating  \\\n",
      "1507    15741        0             0             0             0.0   \n",
      "1508    16135        0             0             0             0.0   \n",
      "1509    15891        0             0             0             0.0   \n",
      "1510    15887        0             0             0             0.0   \n",
      "1511  13127-1        0             0             0             0.0   \n",
      "1512    16230        0             0             0             0.0   \n",
      "\n",
      "      total_sales tax_status  tax_class  post_author           post_date  ...  \\\n",
      "1507          2.0        NaN        NaN          2.0 2020-04-25 12:49:49  ...   \n",
      "1508          5.0        NaN        NaN          2.0 2020-04-25 13:22:38  ...   \n",
      "1509          0.0        NaN        NaN          2.0 2020-05-02 14:53:40  ...   \n",
      "1510          0.0        NaN        NaN          2.0 2020-05-02 15:00:54  ...   \n",
      "1511          0.0        NaN        NaN          2.0 2020-06-09 15:42:04  ...   \n",
      "1512          0.0        NaN        NaN          2.0 2020-07-20 11:00:00  ...   \n",
      "\n",
      "                                              post_name       post_modified  \\\n",
      "1507             cedre-de-jean-faure-saint-emilion-2016 2020-08-27 15:15:02   \n",
      "1508                    mouthes-le-bihan-aime-chai-2015 2020-08-26 17:35:03   \n",
      "1509         camin-larredya-jurancon-sec-la-virada-2018 2020-08-26 17:35:02   \n",
      "1510             jamet-cote-rotie-fructus-voluptas-2018 2020-08-14 18:15:03   \n",
      "1511     clos-du-mont-olivet-chateauneuf-du-pape-2007-2 2020-07-20 17:09:06   \n",
      "1512  domaine-saint-nicolas-fiefs-vendeens-blanc-les... 2020-08-13 10:45:03   \n",
      "\n",
      "       post_modified_gmt post_content_filtered post_parent  \\\n",
      "1507 2020-08-27 13:15:02                   NaN         0.0   \n",
      "1508 2020-08-26 15:35:03                   NaN         0.0   \n",
      "1509 2020-08-26 15:35:02                   NaN         0.0   \n",
      "1510 2020-08-14 16:15:03                   NaN         0.0   \n",
      "1511 2020-07-20 15:09:06                   NaN         0.0   \n",
      "1512 2020-08-13 08:45:03                   NaN         0.0   \n",
      "\n",
      "                                                   guid menu_order  \\\n",
      "1507  https://www.bottle-neck.fr/wp-content/uploads/...        0.0   \n",
      "1508  https://www.bottle-neck.fr/wp-content/uploads/...        0.0   \n",
      "1509  https://www.bottle-neck.fr/wp-content/uploads/...        0.0   \n",
      "1510  https://www.bottle-neck.fr/wp-content/uploads/...        0.0   \n",
      "1511  https://www.bottle-neck.fr/wp-content/uploads/...        0.0   \n",
      "1512  https://www.bottle-neck.fr/wp-content/uploads/...        0.0   \n",
      "\n",
      "       post_type post_mime_type comment_count  \n",
      "1507  attachment     image/jpeg           0.0  \n",
      "1508  attachment     image/jpeg           0.0  \n",
      "1509  attachment     image/jpeg           0.0  \n",
      "1510  attachment     image/jpeg           0.0  \n",
      "1511  attachment     image/jpeg           0.0  \n",
      "1512  attachment     image/jpeg           0.0  \n",
      "\n",
      "[6 rows x 28 columns]\n"
     ]
    }
   ],
   "source": [
    "print(web.head(6))\n",
    "print()\n",
    "print(web.tail(6))"
   ]
  },
  {
   "cell_type": "markdown",
   "id": "063beb37",
   "metadata": {},
   "source": [
    "### Suppression des valeurs nulles au niveau de colonnes spécifiques et dupliquée pour la colonne drop"
   ]
  },
  {
   "cell_type": "code",
   "execution_count": 26,
   "id": "04eb85bb",
   "metadata": {},
   "outputs": [],
   "source": [
    "erp.dropna(subset=[\"product_id\"],inplace = True)\n",
    "liaison.dropna(subset=[\"sku\"],inplace = True)\n",
    "web.dropna(subset=[\"sku\",\"tax_status\"],inplace = True)\n",
    "web.drop_duplicates(subset=[\"sku\"],inplace = True)"
   ]
  },
  {
   "cell_type": "code",
   "execution_count": 4,
   "id": "f4f3fa92",
   "metadata": {},
   "outputs": [
    {
     "name": "stdout",
     "output_type": "stream",
     "text": [
      "   product_id  onsale_web  price  stock_quantity stock_status\n",
      "0        3847           1   24.2               0   outofstock\n",
      "1        3849           1   34.3               0   outofstock\n",
      "2        3850           1   20.8               0   outofstock\n",
      "3        4032           1   14.1               0   outofstock\n",
      "4        4039           1   46.0               0   outofstock\n",
      "5        4040           1   34.3               0   outofstock\n",
      "\n",
      "     product_id  onsale_web  price  stock_quantity stock_status\n",
      "819        7201           0   31.0              18      instock\n",
      "820        7203           0   45.0              30      instock\n",
      "821        7204           0   45.0               9      instock\n",
      "822        7247           1   54.8              23      instock\n",
      "823        7329           0   26.5              14      instock\n",
      "824        7338           1   16.3              45      instock\n"
     ]
    }
   ],
   "source": [
    "print(erp.head(6))\n",
    "print()\n",
    "print(erp.tail(6))"
   ]
  },
  {
   "cell_type": "code",
   "execution_count": 5,
   "id": "37f37241",
   "metadata": {},
   "outputs": [
    {
     "name": "stdout",
     "output_type": "stream",
     "text": [
      "   product_id    sku\n",
      "0        3847  15298\n",
      "1        3849  15296\n",
      "2        3850  15300\n",
      "3        4032  19814\n",
      "4        4039  19815\n",
      "5        4040  15303\n",
      "\n",
      "     product_id      sku\n",
      "787        6930    16135\n",
      "792        7023    15891\n",
      "793        7025    15887\n",
      "822        7247  13127-1\n",
      "823        7329  14680-1\n",
      "824        7338    16230\n"
     ]
    }
   ],
   "source": [
    "print(liaison.head(6))\n",
    "print()\n",
    "print(liaison.tail(6))"
   ]
  },
  {
   "cell_type": "code",
   "execution_count": 6,
   "id": "d2a90bb5",
   "metadata": {},
   "outputs": [
    {
     "name": "stdout",
     "output_type": "stream",
     "text": [
      "                   sku  virtual  downloadable  rating_count  average_rating  \\\n",
      "0  bon-cadeau-25-euros        0             0             0             0.0   \n",
      "1                15298        0             0             0             0.0   \n",
      "2                15296        0             0             0             0.0   \n",
      "3                15300        0             0             0             0.0   \n",
      "4                19814        0             0             0             0.0   \n",
      "5                19815        0             0             0             0.0   \n",
      "\n",
      "   total_sales tax_status  tax_class  post_author           post_date  ...  \\\n",
      "0         10.0    taxable        NaN          1.0 2018-06-01 13:53:46  ...   \n",
      "1          6.0    taxable        NaN          2.0 2018-02-08 12:58:52  ...   \n",
      "2          0.0    taxable        NaN          2.0 2018-02-08 13:49:41  ...   \n",
      "3          0.0    taxable        NaN          2.0 2018-02-08 14:08:36  ...   \n",
      "4          3.0    taxable        NaN          2.0 2018-02-09 14:01:05  ...   \n",
      "5          0.0    taxable        NaN          2.0 2018-02-12 09:04:37  ...   \n",
      "\n",
      "                                           post_name       post_modified  \\\n",
      "0                             bon-cadeau-de-25-euros 2018-06-01 14:13:57   \n",
      "1        pierre-jean-villa-saint-joseph-preface-2018 2019-12-30 09:30:29   \n",
      "2          pierre-jean-villa-saint-joseph-tilde-2017 2019-12-21 09:00:17   \n",
      "3  pierre-jean-villa-croze-hermitage-accroche-coe... 2020-06-26 18:15:03   \n",
      "4                  pierre-jean-villa-igp-gamine-2018 2020-01-04 16:36:01   \n",
      "5          pierre-jean-villa-cote-rotie-carmina-2017 2020-01-04 16:36:10   \n",
      "\n",
      "    post_modified_gmt post_content_filtered post_parent  \\\n",
      "0 2018-06-01 12:13:57                   NaN         0.0   \n",
      "1 2019-12-30 08:30:29                   NaN         0.0   \n",
      "2 2019-12-21 08:00:17                   NaN         0.0   \n",
      "3 2020-06-26 16:15:03                   NaN         0.0   \n",
      "4 2020-01-04 15:36:01                   NaN         0.0   \n",
      "5 2020-01-04 15:36:10                   NaN         0.0   \n",
      "\n",
      "                                                guid menu_order  post_type  \\\n",
      "0  https://www.bottle-neck.fr/?post_type=product&...        0.0    product   \n",
      "1  https://www.bottle-neck.fr/?post_type=product&...        0.0    product   \n",
      "2  https://www.bottle-neck.fr/?post_type=product&...        0.0    product   \n",
      "3  https://www.bottle-neck.fr/?post_type=product&...        0.0    product   \n",
      "4  https://www.bottle-neck.fr/?post_type=product&...        0.0    product   \n",
      "5  https://www.bottle-neck.fr/?post_type=product&...        0.0    product   \n",
      "\n",
      "  post_mime_type comment_count  \n",
      "0            NaN           0.0  \n",
      "1            NaN           0.0  \n",
      "2            NaN           0.0  \n",
      "3            NaN           0.0  \n",
      "4            NaN           0.0  \n",
      "5            NaN           0.0  \n",
      "\n",
      "[6 rows x 28 columns]\n",
      "\n",
      "         sku  virtual  downloadable  rating_count  average_rating  \\\n",
      "761    15741        0             0             0             0.0   \n",
      "762    16135        0             0             0             0.0   \n",
      "767    15891        0             0             0             0.0   \n",
      "768    15887        0             0             0             0.0   \n",
      "797  13127-1        0             0             0             0.0   \n",
      "798    16230        0             0             0             0.0   \n",
      "\n",
      "     total_sales tax_status  tax_class  post_author           post_date  ...  \\\n",
      "761          2.0    taxable        NaN          2.0 2020-04-25 12:49:49  ...   \n",
      "762          5.0    taxable        NaN          2.0 2020-04-25 13:22:38  ...   \n",
      "767          0.0    taxable        NaN          2.0 2020-05-02 14:53:40  ...   \n",
      "768          0.0    taxable        NaN          2.0 2020-05-02 15:00:54  ...   \n",
      "797          0.0    taxable        NaN          2.0 2020-06-09 15:42:04  ...   \n",
      "798          0.0    taxable        NaN          2.0 2020-07-20 11:00:00  ...   \n",
      "\n",
      "                                             post_name       post_modified  \\\n",
      "761             cedre-de-jean-faure-saint-emilion-2016 2020-08-27 15:15:02   \n",
      "762                    mouthes-le-bihan-aime-chai-2015 2020-08-26 17:35:03   \n",
      "767         camin-larredya-jurancon-sec-la-virada-2018 2020-08-26 17:35:02   \n",
      "768             jamet-cote-rotie-fructus-voluptas-2018 2020-08-14 18:15:03   \n",
      "797     clos-du-mont-olivet-chateauneuf-du-pape-2007-2 2020-07-20 17:09:06   \n",
      "798  domaine-saint-nicolas-fiefs-vendeens-blanc-les... 2020-08-13 10:45:03   \n",
      "\n",
      "      post_modified_gmt post_content_filtered post_parent  \\\n",
      "761 2020-08-27 13:15:02                   NaN         0.0   \n",
      "762 2020-08-26 15:35:03                   NaN         0.0   \n",
      "767 2020-08-26 15:35:02                   NaN         0.0   \n",
      "768 2020-08-14 16:15:03                   NaN         0.0   \n",
      "797 2020-07-20 15:09:06                   NaN         0.0   \n",
      "798 2020-08-13 08:45:03                   NaN         0.0   \n",
      "\n",
      "                                                  guid menu_order  post_type  \\\n",
      "761  https://www.bottle-neck.fr/?post_type=product&...        0.0    product   \n",
      "762  https://www.bottle-neck.fr/?post_type=product&...        0.0    product   \n",
      "767  https://www.bottle-neck.fr/?post_type=product&...        0.0    product   \n",
      "768  https://www.bottle-neck.fr/?post_type=product&...        0.0    product   \n",
      "797  https://www.bottle-neck.fr/?post_type=product&...        0.0    product   \n",
      "798  https://www.bottle-neck.fr/?post_type=product&...        0.0    product   \n",
      "\n",
      "    post_mime_type comment_count  \n",
      "761            NaN           0.0  \n",
      "762            NaN           0.0  \n",
      "767            NaN           0.0  \n",
      "768            NaN           0.0  \n",
      "797            NaN           0.0  \n",
      "798            NaN           0.0  \n",
      "\n",
      "[6 rows x 28 columns]\n"
     ]
    }
   ],
   "source": [
    "print(web.head(6))\n",
    "print()\n",
    "print(web.tail(6))"
   ]
  },
  {
   "cell_type": "code",
   "execution_count": 22,
   "id": "ce32a6ea",
   "metadata": {},
   "outputs": [
    {
     "name": "stdout",
     "output_type": "stream",
     "text": [
      "           sku  virtual  downloadable  rating_count  average_rating  \\\n",
      "post_type                                                             \n",
      "product    714      714           714           714             714   \n",
      "\n",
      "           total_sales  tax_status  tax_class  post_author  post_date  ...  \\\n",
      "post_type                                                              ...   \n",
      "product            714         714          0          714        714  ...   \n",
      "\n",
      "           post_password  post_name  post_modified  post_modified_gmt  \\\n",
      "post_type                                                               \n",
      "product                0        714            714                714   \n",
      "\n",
      "           post_content_filtered  post_parent  guid  menu_order  \\\n",
      "post_type                                                         \n",
      "product                        0          714   714         714   \n",
      "\n",
      "           post_mime_type  comment_count  \n",
      "post_type                                 \n",
      "product                 0            714  \n",
      "\n",
      "[1 rows x 27 columns]\n"
     ]
    }
   ],
   "source": [
    "count_post_type = web.groupby('post_type').count()\n",
    "print(count_post_type)"
   ]
  },
  {
   "cell_type": "markdown",
   "id": "b413407b",
   "metadata": {},
   "source": [
    " ### On peut voir qu'il n'y qu'un seul post_type : Product"
   ]
  },
  {
   "cell_type": "markdown",
   "id": "a020faa6",
   "metadata": {},
   "source": [
    "### Vérification des types des colonnes , de la présence de valeur doubles ou valeurs nulles et test de clé primaire"
   ]
  },
  {
   "cell_type": "code",
   "execution_count": 23,
   "id": "ca2df56a",
   "metadata": {},
   "outputs": [
    {
     "name": "stdout",
     "output_type": "stream",
     "text": [
      "product_id          int64\n",
      "onsale_web          int64\n",
      "price             float64\n",
      "stock_quantity      int64\n",
      "stock_status       object\n",
      "dtype: object\n",
      "Il y a : 0 valeurs doubles dans la table erp\n",
      "product_id        False\n",
      "onsale_web        False\n",
      "price             False\n",
      "stock_quantity    False\n",
      "stock_status      False\n",
      "dtype: bool\n",
      "\n",
      "La clé n'est pas présente plusieurs fois dans le dataframe.\n",
      "Elle peut donc être utilisée comme clé primaire.\n"
     ]
    }
   ],
   "source": [
    "print(erp.dtypes)\n",
    "print(\"Il y a :\",erp.duplicated().sum(),\"valeurs doubles dans la table erp\")\n",
    "print(erp.isnull().any())\n",
    "print()\n",
    "testCle(erp,[\"product_id\"])"
   ]
  },
  {
   "cell_type": "code",
   "execution_count": 24,
   "id": "37b5e8ef",
   "metadata": {},
   "outputs": [
    {
     "name": "stdout",
     "output_type": "stream",
     "text": [
      "product_id     int64\n",
      "sku           object\n",
      "dtype: object\n",
      "Il y a : 0 valeurs doubles dans la table liaison\n",
      "product_id    False\n",
      "sku           False\n",
      "dtype: bool\n",
      "\n",
      "La clé n'est pas présente plusieurs fois dans le dataframe.\n",
      "Elle peut donc être utilisée comme clé primaire.\n"
     ]
    }
   ],
   "source": [
    "print(liaison.dtypes)\n",
    "print(\"Il y a :\",liaison.duplicated().sum(),\"valeurs doubles dans la table liaison\")\n",
    "print(liaison.isnull().any())\n",
    "print()\n",
    "testCle(liaison,[\"sku\"])"
   ]
  },
  {
   "cell_type": "code",
   "execution_count": 27,
   "id": "d7dccc23",
   "metadata": {},
   "outputs": [
    {
     "name": "stdout",
     "output_type": "stream",
     "text": [
      "sku                              object\n",
      "virtual                           int64\n",
      "downloadable                      int64\n",
      "rating_count                      int64\n",
      "average_rating                  float64\n",
      "total_sales                     float64\n",
      "tax_status                       object\n",
      "tax_class                       float64\n",
      "post_author                     float64\n",
      "post_date                datetime64[ns]\n",
      "post_date_gmt            datetime64[ns]\n",
      "post_content                    float64\n",
      "post_title                       object\n",
      "post_excerpt                     object\n",
      "post_status                      object\n",
      "comment_status                   object\n",
      "ping_status                      object\n",
      "post_password                   float64\n",
      "post_name                        object\n",
      "post_modified            datetime64[ns]\n",
      "post_modified_gmt        datetime64[ns]\n",
      "post_content_filtered           float64\n",
      "post_parent                     float64\n",
      "guid                             object\n",
      "menu_order                      float64\n",
      "post_type                        object\n",
      "post_mime_type                   object\n",
      "comment_count                   float64\n",
      "dtype: object\n",
      "Il y a : 0 valeurs doubles dans la table web\n",
      "False\n",
      "\n",
      "La clé n'est pas présente plusieurs fois dans le dataframe.\n",
      "Elle peut donc être utilisée comme clé primaire.\n"
     ]
    }
   ],
   "source": [
    "print(web.dtypes)\n",
    "print(\"Il y a :\",web.duplicated().sum(),\"valeurs doubles dans la table web\")\n",
    "print(web[\"sku\"].isnull().any())\n",
    "print()\n",
    "testCle(web,[\"sku\"])"
   ]
  },
  {
   "cell_type": "markdown",
   "id": "5020f633",
   "metadata": {},
   "source": [
    "### Jointure entre les dataframes ERP puis LIAISON puis WEB , réorganisation de la dataframe"
   ]
  },
  {
   "cell_type": "code",
   "execution_count": 44,
   "id": "953b887d",
   "metadata": {},
   "outputs": [],
   "source": [
    "erp2=pd.merge(erp,liaison)\n",
    "erp2=erp2[[\"product_id\",\"sku\",\"onsale_web\",\"stock_status\",\"stock_quantity\",\"price\"]]\n",
    "erp3=pd.merge(erp2,web)"
   ]
  },
  {
   "cell_type": "markdown",
   "id": "71bfe038",
   "metadata": {},
   "source": [
    "### Création d'une table pour obtenir le CA par produit"
   ]
  },
  {
   "cell_type": "code",
   "execution_count": 45,
   "id": "5388b2f0",
   "metadata": {},
   "outputs": [
    {
     "name": "stdout",
     "output_type": "stream",
     "text": [
      "   product_id  total_sales  price     CA\n",
      "0        3847          6.0   24.2  145.2\n",
      "3        4032          3.0   14.1   42.3\n",
      "7        4042          7.0   31.2  218.4\n",
      "8        4043          3.0   60.0  180.0\n",
      "9        4045         14.0   42.6  596.4\n"
     ]
    }
   ],
   "source": [
    "erp4=erp3[[\"product_id\",\"total_sales\",\"price\"]]\n",
    "erp4= erp4[erp4[\"total_sales\"] != 0.0]\n",
    "erp4[\"CA\"]= erp4[\"total_sales\"]*erp4[\"price\"]\n",
    "print(erp4.head(5))"
   ]
  },
  {
   "cell_type": "markdown",
   "id": "2b69afde",
   "metadata": {},
   "source": [
    "### Calcul du CA Total"
   ]
  },
  {
   "cell_type": "code",
   "execution_count": 46,
   "id": "201f1dc8",
   "metadata": {},
   "outputs": [
    {
     "name": "stdout",
     "output_type": "stream",
     "text": [
      "Le chiffre d'affaire Total est: 70568.6\n"
     ]
    }
   ],
   "source": [
    "Total_CA=sum(erp4[\"CA\"])\n",
    "print(f\"Le chiffre d'affaire Total est: {Total_CA}\")"
   ]
  },
  {
   "cell_type": "markdown",
   "id": "33ba292e",
   "metadata": {},
   "source": [
    "### Détection des valeurs aberrantes en utilisant la notion de Z-score"
   ]
  },
  {
   "cell_type": "code",
   "execution_count": 47,
   "id": "26c9351b",
   "metadata": {},
   "outputs": [
    {
     "name": "stdout",
     "output_type": "stream",
     "text": [
      "     product_id  price   zscores\n",
      "65         4132   88.4  2.011686\n",
      "502        5565   92.0  2.141225\n",
      "602        5916   93.0  2.177207\n",
      "655        6214   99.0  2.393104\n",
      "63         4115  100.0  2.429087\n",
      "380        4903  102.3  2.511848\n",
      "222        4407  104.0  2.573018\n",
      "432        5008  105.0  2.609001\n",
      "431        5007  105.0  2.609001\n",
      "647        6201  105.6  2.630591\n",
      "219        4404  108.5  2.734941\n",
      "227        4582  109.6  2.774522\n",
      "437        5025  112.0  2.860881\n",
      "604        5918  114.0  2.932846\n",
      "656        6215  115.0  2.968829\n",
      "653        6212  115.0  2.968829\n",
      "648        6202  116.4  3.019205\n",
      "657        6216  121.0  3.184726\n",
      "654        6213  121.0  3.184726\n",
      "603        5917  122.0  3.220709\n",
      "511        5612  124.8  3.321461\n",
      "201        4355  126.5  3.382632\n",
      "642        6126  135.0  3.688486\n",
      "381        4904  137.0  3.760451\n",
      "221        4406  157.0  4.480108\n",
      "553        5767  175.0  5.127798\n",
      "218        4402  176.0  5.163781\n",
      "587        5892  191.3  5.714318\n",
      "426        5001  217.5  6.657068\n",
      "199        4352  225.0  6.926939\n"
     ]
    }
   ],
   "source": [
    "erp5=erp3[[\"product_id\",\"price\"]]\n",
    "erp5.sort_values(by=\"price\", inplace = True)\n",
    "erp5[\"zscores\"] = stats.zscore(erp5[\"price\"])\n",
    "print(erp5[erp5[\"zscores\"] > 2])\n",
    "#print(erp5b.info())"
   ]
  },
  {
   "cell_type": "markdown",
   "id": "a8cf8332",
   "metadata": {},
   "source": [
    "### Détection des valeurs aberrantes en utilisant le calcul avec InterQuartile"
   ]
  },
  {
   "cell_type": "code",
   "execution_count": 48,
   "id": "3362b35a",
   "metadata": {},
   "outputs": [
    {
     "name": "stdout",
     "output_type": "stream",
     "text": [
      "84.28750000000001\n",
      "     product_id  price   zscores\n",
      "205        4359   85.6  1.910934\n",
      "438        5026   86.8  1.954114\n",
      "65         4132   88.4  2.011686\n",
      "502        5565   92.0  2.141225\n",
      "602        5916   93.0  2.177207\n",
      "655        6214   99.0  2.393104\n",
      "63         4115  100.0  2.429087\n",
      "380        4903  102.3  2.511848\n",
      "222        4407  104.0  2.573018\n",
      "432        5008  105.0  2.609001\n",
      "431        5007  105.0  2.609001\n",
      "647        6201  105.6  2.630591\n",
      "219        4404  108.5  2.734941\n",
      "227        4582  109.6  2.774522\n",
      "437        5025  112.0  2.860881\n",
      "604        5918  114.0  2.932846\n",
      "656        6215  115.0  2.968829\n",
      "653        6212  115.0  2.968829\n",
      "648        6202  116.4  3.019205\n",
      "657        6216  121.0  3.184726\n",
      "654        6213  121.0  3.184726\n",
      "603        5917  122.0  3.220709\n",
      "511        5612  124.8  3.321461\n",
      "201        4355  126.5  3.382632\n",
      "642        6126  135.0  3.688486\n",
      "381        4904  137.0  3.760451\n",
      "221        4406  157.0  4.480108\n",
      "553        5767  175.0  5.127798\n",
      "218        4402  176.0  5.163781\n",
      "587        5892  191.3  5.714318\n",
      "426        5001  217.5  6.657068\n",
      "199        4352  225.0  6.926939\n"
     ]
    }
   ],
   "source": [
    "Q1  = np.quantile(erp5[\"price\"], 0.25)\n",
    "Q3  = np.quantile(erp5[\"price\"], 0.75)\n",
    "IQR = Q3-Q1\n",
    "Min = Q1-1.5*IQR\n",
    "Max = Q3+1.5*IQR\n",
    "print(Max)\n",
    "print(erp5[erp5[\"price\"] > Max])"
   ]
  },
  {
   "cell_type": "markdown",
   "id": "cbb8c375",
   "metadata": {},
   "source": [
    "### Représentation graphique permettant de distinguées les valeurs aberrantes"
   ]
  },
  {
   "cell_type": "code",
   "execution_count": 10,
   "id": "b32ccba8",
   "metadata": {},
   "outputs": [
    {
     "data": {
      "image/png": "[encoded data removed]",
      "text/plain": [
       "<Figure size 432x288 with 1 Axes>"
      ]
     },
     "metadata": {
      "needs_background": "light"
     },
     "output_type": "display_data"
    }
   ],
   "source": [
    "flierprops = dict(marker='o', markerfacecolor='r', markersize=6,linestyle='none', markeredgecolor='g')\n",
    "plt.boxplot(erp5[\"price\"],flierprops=flierprops)\n",
    "plt.show()"
   ]
  }
 ],
 "metadata": {
  "kernelspec": {
   "display_name": "Python 3",
   "language": "python",
   "name": "python3"
  },
  "language_info": {
   "codemirror_mode": {
    "name": "ipython",
    "version": 3
   },
   "file_extension": ".py",
   "mimetype": "text/x-python",
   "name": "python",
   "nbconvert_exporter": "python",
   "pygments_lexer": "ipython3",
   "version": "3.8.8"
  }
 },
 "nbformat": 4,
 "nbformat_minor": 5
}
