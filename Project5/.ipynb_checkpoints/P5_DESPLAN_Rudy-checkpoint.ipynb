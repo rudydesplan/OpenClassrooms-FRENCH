{
 "cells": [
  {
   "cell_type": "code",
   "execution_count": 1,
   "id": "90dbe039",
   "metadata": {},
   "outputs": [],
   "source": [
    "import pandas as pd\n",
    "import scipy.stats as stats\n",
    "import numpy as np\n",
    "import matplotlib.pyplot as plt\n",
    "import warnings\n",
    "warnings.simplefilter(\"ignore\")"
   ]
  },
  {
   "cell_type": "markdown",
   "id": "a0444775",
   "metadata": {},
   "source": [
    "### Creation des dataframes à partir des fichiers CSV"
   ]
  },
  {
   "cell_type": "code",
   "execution_count": 2,
   "id": "0fdd2a13",
   "metadata": {},
   "outputs": [],
   "source": [
    "erp = pd.read_excel(\"C:/Users/rudy/Documents/GitHub/OpenClassrooms-FRENCH/Project5/erp.xlsx\")\n",
    "erp.sort_values(by=\"product_id\", inplace = True)\n",
    "liaison = pd.read_excel(\"C:/Users/rudy/Documents/GitHub/OpenClassrooms-FRENCH/Project5/liaison.xlsx\")\n",
    "liaison.sort_values(by=\"product_id\", inplace = True)\n",
    "liaison.rename(columns={\"id_web\": \"sku\"},inplace=True)\n",
    "web = pd.read_excel(\"C:/Users/rudy/Documents/GitHub/OpenClassrooms-FRENCH/Project5/web.xlsx\")"
   ]
  },
  {
   "cell_type": "markdown",
   "id": "227876f3",
   "metadata": {},
   "source": [
    "### Création d'une fonction pour tester l'unicité de colonnes que l'on peut utiliser comme clé primaire"
   ]
  },
  {
   "cell_type": "code",
   "execution_count": 3,
   "id": "21b4b138",
   "metadata": {},
   "outputs": [],
   "source": [
    "def testCle(df, colonnes):\n",
    "    \"\"\"Fonction qui prend en arguments un dataframe et les colonnes qui composent la clé primaire à tester.\"\"\"\n",
    "\n",
    "    # On compare la taille du dataframe avant et après dédoublonnage \n",
    "    if df.size == df.drop_duplicates(colonnes).size :\n",
    "        print(\"La clé n'est pas présente plusieurs fois dans le dataframe.\")\n",
    "        print(\"Elle peut donc être utilisée comme clé primaire.\".format(colonnes))\n",
    "    else :\n",
    "        print(\"La clé est présente plusieurs fois dans le dataframe.\")\n",
    "        print(\"Elle ne peut donc pas être utilisée comme clé primaire.\".format(colonnes))"
   ]
  },
  {
   "cell_type": "markdown",
   "id": "f484f849",
   "metadata": {},
   "source": [
    "### Test de la colonne product_id comme clée primaire"
   ]
  },
  {
   "cell_type": "code",
   "execution_count": 4,
   "id": "d056e73e",
   "metadata": {},
   "outputs": [
    {
     "name": "stdout",
     "output_type": "stream",
     "text": [
      "La clé n'est pas présente plusieurs fois dans le dataframe.\n",
      "Elle peut donc être utilisée comme clé primaire.\n"
     ]
    }
   ],
   "source": [
    "testCle(erp,[\"product_id\"])"
   ]
  },
  {
   "cell_type": "markdown",
   "id": "2c9a64e7",
   "metadata": {},
   "source": [
    "### Print afin d'avoir un apercu de la table erp"
   ]
  },
  {
   "cell_type": "code",
   "execution_count": 5,
   "id": "6840f4b2",
   "metadata": {},
   "outputs": [
    {
     "name": "stdout",
     "output_type": "stream",
     "text": [
      "<class 'pandas.core.frame.DataFrame'>\n",
      "Int64Index: 825 entries, 0 to 824\n",
      "Data columns (total 5 columns):\n",
      " #   Column          Non-Null Count  Dtype  \n",
      "---  ------          --------------  -----  \n",
      " 0   product_id      825 non-null    int64  \n",
      " 1   onsale_web      825 non-null    int64  \n",
      " 2   price           825 non-null    float64\n",
      " 3   stock_quantity  825 non-null    int64  \n",
      " 4   stock_status    825 non-null    object \n",
      "dtypes: float64(1), int64(3), object(1)\n",
      "memory usage: 38.7+ KB\n",
      "None\n"
     ]
    }
   ],
   "source": [
    "print(erp.info())"
   ]
  },
  {
   "cell_type": "markdown",
   "id": "b4777c8b",
   "metadata": {},
   "source": [
    "### Test de la colonne sku comme clée primaire"
   ]
  },
  {
   "cell_type": "code",
   "execution_count": 6,
   "id": "2768632e",
   "metadata": {},
   "outputs": [
    {
     "name": "stdout",
     "output_type": "stream",
     "text": [
      "La clé est présente plusieurs fois dans le dataframe.\n",
      "Elle ne peut donc pas être utilisée comme clé primaire.\n"
     ]
    }
   ],
   "source": [
    "testCle(liaison,[\"sku\"])"
   ]
  },
  {
   "cell_type": "markdown",
   "id": "e2b5b26b",
   "metadata": {},
   "source": [
    "### Print afin d'avoir un apercu de la table liaison"
   ]
  },
  {
   "cell_type": "code",
   "execution_count": 7,
   "id": "cb9992e8",
   "metadata": {},
   "outputs": [
    {
     "name": "stdout",
     "output_type": "stream",
     "text": [
      "<class 'pandas.core.frame.DataFrame'>\n",
      "Int64Index: 825 entries, 0 to 824\n",
      "Data columns (total 2 columns):\n",
      " #   Column      Non-Null Count  Dtype \n",
      "---  ------      --------------  ----- \n",
      " 0   product_id  825 non-null    int64 \n",
      " 1   sku         734 non-null    object\n",
      "dtypes: int64(1), object(1)\n",
      "memory usage: 19.3+ KB\n",
      "None\n"
     ]
    }
   ],
   "source": [
    "print(liaison.info())"
   ]
  },
  {
   "cell_type": "markdown",
   "id": "0295bf01",
   "metadata": {},
   "source": [
    "### Test de la colonne sku comme clée primaire"
   ]
  },
  {
   "cell_type": "code",
   "execution_count": 8,
   "id": "e436963f",
   "metadata": {},
   "outputs": [
    {
     "name": "stdout",
     "output_type": "stream",
     "text": [
      "La clé est présente plusieurs fois dans le dataframe.\n",
      "Elle ne peut donc pas être utilisée comme clé primaire.\n"
     ]
    }
   ],
   "source": [
    "testCle(web,[\"sku\"])"
   ]
  },
  {
   "cell_type": "markdown",
   "id": "51dd7796",
   "metadata": {},
   "source": [
    "### Print afin d'avoir un apercu de la table web"
   ]
  },
  {
   "cell_type": "code",
   "execution_count": 9,
   "id": "bde4a479",
   "metadata": {},
   "outputs": [
    {
     "name": "stdout",
     "output_type": "stream",
     "text": [
      "<class 'pandas.core.frame.DataFrame'>\n",
      "RangeIndex: 1513 entries, 0 to 1512\n",
      "Data columns (total 28 columns):\n",
      " #   Column                 Non-Null Count  Dtype         \n",
      "---  ------                 --------------  -----         \n",
      " 0   sku                    1428 non-null   object        \n",
      " 1   virtual                1513 non-null   int64         \n",
      " 2   downloadable           1513 non-null   int64         \n",
      " 3   rating_count           1513 non-null   int64         \n",
      " 4   average_rating         1430 non-null   float64       \n",
      " 5   total_sales            1430 non-null   float64       \n",
      " 6   tax_status             716 non-null    object        \n",
      " 7   tax_class              0 non-null      float64       \n",
      " 8   post_author            1430 non-null   float64       \n",
      " 9   post_date              1430 non-null   datetime64[ns]\n",
      " 10  post_date_gmt          1430 non-null   datetime64[ns]\n",
      " 11  post_content           0 non-null      float64       \n",
      " 12  post_title             1430 non-null   object        \n",
      " 13  post_excerpt           716 non-null    object        \n",
      " 14  post_status            1430 non-null   object        \n",
      " 15  comment_status         1430 non-null   object        \n",
      " 16  ping_status            1430 non-null   object        \n",
      " 17  post_password          0 non-null      float64       \n",
      " 18  post_name              1430 non-null   object        \n",
      " 19  post_modified          1430 non-null   datetime64[ns]\n",
      " 20  post_modified_gmt      1430 non-null   datetime64[ns]\n",
      " 21  post_content_filtered  0 non-null      float64       \n",
      " 22  post_parent            1430 non-null   float64       \n",
      " 23  guid                   1430 non-null   object        \n",
      " 24  menu_order             1430 non-null   float64       \n",
      " 25  post_type              1430 non-null   object        \n",
      " 26  post_mime_type         714 non-null    object        \n",
      " 27  comment_count          1430 non-null   float64       \n",
      "dtypes: datetime64[ns](4), float64(10), int64(3), object(11)\n",
      "memory usage: 331.1+ KB\n",
      "None\n"
     ]
    }
   ],
   "source": [
    "print(web.info())"
   ]
  },
  {
   "cell_type": "markdown",
   "id": "fe296755",
   "metadata": {},
   "source": [
    "### Création d'une dataframe qui regroupera les lignes de la table Liaison dont le sku a une valeur nulle."
   ]
  },
  {
   "cell_type": "code",
   "execution_count": 10,
   "id": "e2f0e6ee",
   "metadata": {},
   "outputs": [
    {
     "name": "stdout",
     "output_type": "stream",
     "text": [
      "La Table Liaison compte 91 Lignes avec un sku null\n",
      "     product_id  sku\n",
      "19         4055  NaN\n",
      "49         4090  NaN\n",
      "50         4092  NaN\n",
      "119        4195  NaN\n",
      "131        4209  NaN\n"
     ]
    }
   ],
   "source": [
    "liaison_sku_nan = liaison[liaison['sku'].isnull()]\n",
    "print(f\"La Table Liaison compte {liaison_sku_nan.shape[0]} Lignes avec un sku null\")\n",
    "print(liaison_sku_nan.head(5))"
   ]
  },
  {
   "cell_type": "markdown",
   "id": "c56d8e0d",
   "metadata": {},
   "source": [
    "### Suppression des valeurs nulles au niveau de la colonne tax_status qui correspondent à la valeur Attachement dans la colonne Product_type et provoquent des valeurs doubles"
   ]
  },
  {
   "cell_type": "code",
   "execution_count": 38,
   "id": "d4b1731a",
   "metadata": {},
   "outputs": [],
   "source": [
    "web.dropna(subset=[\"tax_status\"],inplace = True)"
   ]
  },
  {
   "cell_type": "markdown",
   "id": "01478bee",
   "metadata": {},
   "source": [
    "### Création d'une dataframe qui regroupera les éventuelles lignes dont le sku a une valeur nulle"
   ]
  },
  {
   "cell_type": "code",
   "execution_count": 41,
   "id": "bd251ed8",
   "metadata": {},
   "outputs": [
    {
     "name": "stdout",
     "output_type": "stream",
     "text": [
      "La Table Web_sku_nan compte 2 Valeur nulles\n",
      "     sku  virtual  downloadable  rating_count  average_rating  total_sales  \\\n",
      "470  NaN        0             0             0             0.0          0.0   \n",
      "471  NaN        0             0             0             0.0          0.0   \n",
      "\n",
      "    tax_status  tax_class  post_author           post_date  ...  \\\n",
      "470    taxable        NaN          2.0 2018-07-31 12:07:23  ...   \n",
      "471    taxable        NaN          2.0 2018-08-08 11:23:43  ...   \n",
      "\n",
      "                                      post_name       post_modified  \\\n",
      "470  pierre-jean-villa-cote-rotie-fongeant-2017 2019-11-02 13:24:15   \n",
      "471    pierre-jean-villa-condrieu-suspendu-2018 2019-11-02 13:24:01   \n",
      "\n",
      "      post_modified_gmt post_content_filtered post_parent  \\\n",
      "470 2019-11-02 12:24:15                   NaN         0.0   \n",
      "471 2019-11-02 12:24:01                   NaN         0.0   \n",
      "\n",
      "                                                  guid menu_order  post_type  \\\n",
      "470  https://www.bottle-neck.fr/?post_type=product&...        0.0    product   \n",
      "471  https://www.bottle-neck.fr/?post_type=product&...        0.0    product   \n",
      "\n",
      "    post_mime_type comment_count  \n",
      "470            NaN           0.0  \n",
      "471            NaN           0.0  \n",
      "\n",
      "[2 rows x 28 columns]\n"
     ]
    }
   ],
   "source": [
    "web_sku_nan = web[web['sku'].isnull()]\n",
    "print(f\"La Table Web_sku_nan compte {web_sku_nan.shape[0]} Valeur nulles\")\n",
    "print(web_sku_nan)"
   ]
  },
  {
   "cell_type": "markdown",
   "id": "204be438",
   "metadata": {},
   "source": [
    "### Vérification qu'au niveau de la colonne Post_type il y a une seule valeur possible : product"
   ]
  },
  {
   "cell_type": "code",
   "execution_count": 40,
   "id": "ce32a6ea",
   "metadata": {},
   "outputs": [
    {
     "name": "stdout",
     "output_type": "stream",
     "text": [
      "           sku  virtual  downloadable  rating_count  average_rating  \\\n",
      "post_type                                                             \n",
      "product    714      716           716           716             716   \n",
      "\n",
      "           total_sales  tax_status  tax_class  post_author  post_date  ...  \\\n",
      "post_type                                                              ...   \n",
      "product            716         716          0          716        716  ...   \n",
      "\n",
      "           post_password  post_name  post_modified  post_modified_gmt  \\\n",
      "post_type                                                               \n",
      "product                0        716            716                716   \n",
      "\n",
      "           post_content_filtered  post_parent  guid  menu_order  \\\n",
      "post_type                                                         \n",
      "product                        0          716   716         716   \n",
      "\n",
      "           post_mime_type  comment_count  \n",
      "post_type                                 \n",
      "product                 0            716  \n",
      "\n",
      "[1 rows x 27 columns]\n"
     ]
    }
   ],
   "source": [
    "count_post_type = web.groupby('post_type').count()\n",
    "print(count_post_type)"
   ]
  },
  {
   "cell_type": "markdown",
   "id": "b413407b",
   "metadata": {},
   "source": [
    " ### On peut voir qu'il n'y qu'un seul post_type : Product"
   ]
  },
  {
   "cell_type": "markdown",
   "id": "a020faa6",
   "metadata": {},
   "source": [
    "### Vérification de la présence de valeur doubles"
   ]
  },
  {
   "cell_type": "code",
   "execution_count": 26,
   "id": "ca2df56a",
   "metadata": {},
   "outputs": [
    {
     "name": "stdout",
     "output_type": "stream",
     "text": [
      "Il y a : 0 valeurs doubles dans la table erp\n",
      "Il y a : 0 valeurs doubles dans la table liaison\n",
      "Il y a : 0 valeurs doubles dans la table web\n"
     ]
    }
   ],
   "source": [
    "print(\"Il y a :\",erp.duplicated().sum(),\"valeurs doubles dans la table erp\")\n",
    "print(\"Il y a :\",liaison.duplicated().sum(),\"valeurs doubles dans la table liaison\")\n",
    "print(\"Il y a :\",web.duplicated().sum(),\"valeurs doubles dans la table web\")"
   ]
  },
  {
   "cell_type": "markdown",
   "id": "5020f633",
   "metadata": {},
   "source": [
    "### Création d'une DataFrame ERP2 qui est la OUTER Jointure entre ERP et LIAISON , réorganisation de la dataframe"
   ]
  },
  {
   "cell_type": "code",
   "execution_count": 50,
   "id": "953b887d",
   "metadata": {},
   "outputs": [],
   "source": [
    "erp2 = pd.merge(erp,liaison,how='outer',on='product_id')\n",
    "erp2=erp2[[\"sku\",\"product_id\",\"onsale_web\",\"stock_quantity\",\"price\"]]"
   ]
  },
  {
   "cell_type": "markdown",
   "id": "cc490be7",
   "metadata": {},
   "source": [
    "### Création d'une dataframe qui regroupera les éventuelles lignes de ERP2 dont le sku a une valeur nulle."
   ]
  },
  {
   "cell_type": "code",
   "execution_count": 51,
   "id": "e7887a1e",
   "metadata": {},
   "outputs": [
    {
     "name": "stdout",
     "output_type": "stream",
     "text": [
      " La colonne sku a 91 Valeur nulles\n",
      "     sku  product_id  onsale_web  stock_quantity  price\n",
      "19   NaN        4055           0               0   86.1\n",
      "49   NaN        4090           0               0   73.0\n",
      "50   NaN        4092           0               0   47.0\n",
      "119  NaN        4195           0               0   14.1\n",
      "131  NaN        4209           0               0   73.5\n"
     ]
    }
   ],
   "source": [
    "erp2_sku_nan = erp2[erp2['sku'].isnull()]\n",
    "print(f\" La colonne sku a {erp2_sku_nan.shape[0]} Valeur nulles\")\n",
    "print(erp2_sku_nan.head(5))"
   ]
  },
  {
   "cell_type": "markdown",
   "id": "a8c25691",
   "metadata": {},
   "source": [
    "### Création d'une dataframe qui regroupera les éventuelles lignes de ERP2 dont le product_id a une valeur nulle."
   ]
  },
  {
   "cell_type": "code",
   "execution_count": 44,
   "id": "6c8c7374",
   "metadata": {},
   "outputs": [
    {
     "name": "stdout",
     "output_type": "stream",
     "text": [
      "La Table product_id compte 0 Valeur nulles\n",
      "Empty DataFrame\n",
      "Columns: [sku, product_id, onsale_web, stock_quantity, price]\n",
      "Index: []\n"
     ]
    }
   ],
   "source": [
    "erp2_productid_nan = erp2[erp2['product_id'].isnull()]\n",
    "print(f\"La Table product_id compte {erp2_productid_nan.shape[0]} Valeur nulles\")\n",
    "print(erp2_productid_nan.head(5))"
   ]
  },
  {
   "cell_type": "markdown",
   "id": "fac83585",
   "metadata": {},
   "source": [
    "### Création d'une DataFrame ERP3 qui est la OUTER Jointure entre les dataframes ERP2 et WEB"
   ]
  },
  {
   "cell_type": "code",
   "execution_count": 73,
   "id": "c431f5fe",
   "metadata": {},
   "outputs": [],
   "source": [
    "erp3 = pd.merge(erp2[erp2['sku'].notnull()],web,how='outer',on='sku')"
   ]
  },
  {
   "cell_type": "markdown",
   "id": "c11992aa",
   "metadata": {},
   "source": [
    "### Création d'une dataframe qui regroupera les éventuelles lignes de ERP3 dont le sku a une valeur nulle."
   ]
  },
  {
   "cell_type": "code",
   "execution_count": 58,
   "id": "4b16c35b",
   "metadata": {},
   "outputs": [
    {
     "name": "stdout",
     "output_type": "stream",
     "text": [
      "La Table ERP3 a 2 Lignes dont le sku est null\n",
      "     sku  product_id  onsale_web  stock_quantity  price  virtual  \\\n",
      "734  NaN         NaN         NaN             NaN    NaN      0.0   \n",
      "735  NaN         NaN         NaN             NaN    NaN      0.0   \n",
      "\n",
      "     downloadable  rating_count  average_rating  total_sales  ...  \\\n",
      "734           0.0           0.0             0.0          0.0  ...   \n",
      "735           0.0           0.0             0.0          0.0  ...   \n",
      "\n",
      "                                      post_name       post_modified  \\\n",
      "734  pierre-jean-villa-cote-rotie-fongeant-2017 2019-11-02 13:24:15   \n",
      "735    pierre-jean-villa-condrieu-suspendu-2018 2019-11-02 13:24:01   \n",
      "\n",
      "      post_modified_gmt post_content_filtered post_parent  \\\n",
      "734 2019-11-02 12:24:15                   NaN         0.0   \n",
      "735 2019-11-02 12:24:01                   NaN         0.0   \n",
      "\n",
      "                                                  guid menu_order post_type  \\\n",
      "734  https://www.bottle-neck.fr/?post_type=product&...        0.0   product   \n",
      "735  https://www.bottle-neck.fr/?post_type=product&...        0.0   product   \n",
      "\n",
      "    post_mime_type comment_count  \n",
      "734            NaN           0.0  \n",
      "735            NaN           0.0  \n",
      "\n",
      "[2 rows x 32 columns]\n"
     ]
    }
   ],
   "source": [
    "erp3_sku_nan = erp3[erp3['sku'].isnull()]\n",
    "print(f\"La Table ERP3 a {erp3_sku_nan.shape[0]} Lignes dont le sku est null\")\n",
    "print(erp3_sku_nan)"
   ]
  },
  {
   "cell_type": "markdown",
   "id": "71bfe038",
   "metadata": {},
   "source": [
    "### Création d'une table pour obtenir le CA par produit"
   ]
  },
  {
   "cell_type": "code",
   "execution_count": 62,
   "id": "5388b2f0",
   "metadata": {},
   "outputs": [
    {
     "name": "stdout",
     "output_type": "stream",
     "text": [
      "     sku  product_id  total_sales  onsale_web  stock_quantity  price     CA\n",
      "0  15298      3847.0          6.0         1.0             0.0   24.2  145.2\n",
      "3  19814      4032.0          3.0         1.0             0.0   14.1   42.3\n",
      "7  16042      4042.0          7.0         1.0            34.0   31.2  218.4\n",
      "8  14980      4043.0          3.0         1.0            12.0   60.0  180.0\n",
      "9  16041      4045.0         14.0         1.0            66.0   42.6  596.4\n"
     ]
    }
   ],
   "source": [
    "erp4=erp3[[\"sku\",\"product_id\",\"total_sales\",\"onsale_web\",\"stock_quantity\",\"price\"]]\n",
    "erp4= erp4[erp4[\"total_sales\"] > 0.0]\n",
    "erp4[\"CA\"]= erp4[\"total_sales\"]*erp4[\"price\"]\n",
    "print(erp4.head(5))"
   ]
  },
  {
   "cell_type": "markdown",
   "id": "2b69afde",
   "metadata": {},
   "source": [
    "### Calcul du CA Total"
   ]
  },
  {
   "cell_type": "code",
   "execution_count": 63,
   "id": "201f1dc8",
   "metadata": {},
   "outputs": [
    {
     "name": "stdout",
     "output_type": "stream",
     "text": [
      "Le chiffre d'affaire Total est: 70568.6\n"
     ]
    }
   ],
   "source": [
    "Total_CA=sum(erp4[\"CA\"])\n",
    "print(f\"Le chiffre d'affaire Total est: {Total_CA}\")"
   ]
  },
  {
   "cell_type": "markdown",
   "id": "33ba292e",
   "metadata": {},
   "source": [
    "### Détection des valeurs aberrantes en utilisant la notion de Z-score"
   ]
  },
  {
   "cell_type": "code",
   "execution_count": 64,
   "id": "26c9351b",
   "metadata": {},
   "outputs": [
    {
     "name": "stdout",
     "output_type": "stream",
     "text": [
      "     product_id  total_sales  price   zscores\n",
      "201      4353.0          3.0   79.5  2.125062\n",
      "10       4046.0          6.0   80.0  2.145141\n",
      "206      4359.0          1.0   85.6  2.370021\n",
      "223      4407.0          1.0  104.0  3.108914\n",
      "220      4404.0          2.0  108.5  3.289622\n",
      "672      6212.0          2.0  115.0  3.550643\n",
      "202      4355.0         11.0  126.5  4.012451\n",
      "661      6126.0          2.0  135.0  4.353788\n",
      "387      4904.0          5.0  137.0  4.434102\n",
      "219      4402.0         13.0  176.0  6.000234\n",
      "601      5892.0          3.0  191.3  6.614639\n",
      "200      4352.0          5.0  225.0  7.967937\n"
     ]
    }
   ],
   "source": [
    "erp5=erp4[[\"product_id\",\"total_sales\",\"price\"]]\n",
    "erp5.sort_values(by=\"price\", inplace = True)\n",
    "erp5[\"zscores\"] = stats.zscore(erp5[\"price\"])\n",
    "print(erp5[erp5[\"zscores\"] > 2])\n",
    "#print(erp5b.info())"
   ]
  },
  {
   "cell_type": "markdown",
   "id": "a8cf8332",
   "metadata": {},
   "source": [
    "### Détection des valeurs aberrantes en utilisant le calcul avec InterQuartile"
   ]
  },
  {
   "cell_type": "code",
   "execution_count": 66,
   "id": "3362b35a",
   "metadata": {},
   "outputs": [
    {
     "name": "stdout",
     "output_type": "stream",
     "text": [
      "60.5\n",
      "     product_id  total_sales  price   zscores\n",
      "232      4597.0          2.0   61.6  1.406248\n",
      "260      4630.0          4.0   62.4  1.438374\n",
      "218      4401.0          1.0   62.5  1.442390\n",
      "523      5611.0          1.0   63.4  1.478531\n",
      "502      5545.0          7.0   65.9  1.578924\n",
      "695      6573.0          1.0   68.3  1.675302\n",
      "182      4286.0         10.0   69.8  1.735537\n",
      "18       4054.0         10.0   71.6  1.807820\n",
      "201      4353.0          3.0   79.5  2.125062\n",
      "10       4046.0          6.0   80.0  2.145141\n",
      "206      4359.0          1.0   85.6  2.370021\n",
      "223      4407.0          1.0  104.0  3.108914\n",
      "220      4404.0          2.0  108.5  3.289622\n",
      "672      6212.0          2.0  115.0  3.550643\n",
      "202      4355.0         11.0  126.5  4.012451\n",
      "661      6126.0          2.0  135.0  4.353788\n",
      "387      4904.0          5.0  137.0  4.434102\n",
      "219      4402.0         13.0  176.0  6.000234\n",
      "601      5892.0          3.0  191.3  6.614639\n",
      "200      4352.0          5.0  225.0  7.967937\n"
     ]
    }
   ],
   "source": [
    "Q1  = np.quantile(erp5[\"price\"], 0.25)\n",
    "Q3  = np.quantile(erp5[\"price\"], 0.75)\n",
    "IQR = Q3-Q1\n",
    "Min = Q1-1.5*IQR\n",
    "Max = Q3+1.5*IQR\n",
    "print(Max)\n",
    "print(erp5[erp5[\"price\"] > Max])"
   ]
  },
  {
   "cell_type": "markdown",
   "id": "df1b5ecd",
   "metadata": {},
   "source": [
    "### Petite analyse des Valeurs aberrantes sur le CA"
   ]
  },
  {
   "cell_type": "code",
   "execution_count": 71,
   "id": "d302c0ab",
   "metadata": {},
   "outputs": [
    {
     "name": "stdout",
     "output_type": "stream",
     "text": [
      "Le chiffre d'affaire Total des Valeurs Aberrantes est: 10130.8\n",
      "Ce chiffre représente 14.36 % du Total CA\n",
      "\n",
      "     product_id  total_sales  price   zscores      CA\n",
      "232      4597.0          2.0   61.6  1.406248   123.2\n",
      "260      4630.0          4.0   62.4  1.438374   249.6\n",
      "218      4401.0          1.0   62.5  1.442390    62.5\n",
      "523      5611.0          1.0   63.4  1.478531    63.4\n",
      "502      5545.0          7.0   65.9  1.578924   461.3\n",
      "695      6573.0          1.0   68.3  1.675302    68.3\n",
      "182      4286.0         10.0   69.8  1.735537   698.0\n",
      "18       4054.0         10.0   71.6  1.807820   716.0\n",
      "201      4353.0          3.0   79.5  2.125062   238.5\n",
      "10       4046.0          6.0   80.0  2.145141   480.0\n",
      "206      4359.0          1.0   85.6  2.370021    85.6\n",
      "223      4407.0          1.0  104.0  3.108914   104.0\n",
      "220      4404.0          2.0  108.5  3.289622   217.0\n",
      "672      6212.0          2.0  115.0  3.550643   230.0\n",
      "202      4355.0         11.0  126.5  4.012451  1391.5\n",
      "661      6126.0          2.0  135.0  4.353788   270.0\n",
      "387      4904.0          5.0  137.0  4.434102   685.0\n",
      "219      4402.0         13.0  176.0  6.000234  2288.0\n",
      "601      5892.0          3.0  191.3  6.614639   573.9\n",
      "200      4352.0          5.0  225.0  7.967937  1125.0\n"
     ]
    }
   ],
   "source": [
    "erp6 = erp5[erp5[\"price\"] > Max]\n",
    "erp6[\"CA\"]= erp6[\"total_sales\"]*erp6[\"price\"]\n",
    "Total_CA6=sum(erp6[\"CA\"])\n",
    "print(f\"Le chiffre d'affaire Total des Valeurs Aberrantes est: {Total_CA6}\")\n",
    "print(f\"Ce chiffre représente {round(100*Total_CA6/Total_CA,2)} % du Total CA\")\n",
    "print()\n",
    "print(erp6)"
   ]
  },
  {
   "cell_type": "markdown",
   "id": "cbb8c375",
   "metadata": {},
   "source": [
    "### Représentation graphique permettant de distinguées les valeurs aberrantes"
   ]
  },
  {
   "cell_type": "code",
   "execution_count": 67,
   "id": "b32ccba8",
   "metadata": {},
   "outputs": [
    {
     "data": {
      "image/png": "[encoded data removed]",
      "text/plain": [
       "<Figure size 432x288 with 1 Axes>"
      ]
     },
     "metadata": {
      "needs_background": "light"
     },
     "output_type": "display_data"
    }
   ],
   "source": [
    "flierprops = dict(marker='o', markerfacecolor='r', markersize=6,linestyle='none', markeredgecolor='g')\n",
    "plt.boxplot(erp5[\"price\"],flierprops=flierprops)\n",
    "plt.show()"
   ]
  }
 ],
 "metadata": {
  "kernelspec": {
   "display_name": "Python 3",
   "language": "python",
   "name": "python3"
  },
  "language_info": {
   "codemirror_mode": {
    "name": "ipython",
    "version": 3
   },
   "file_extension": ".py",
   "mimetype": "text/x-python",
   "name": "python",
   "nbconvert_exporter": "python",
   "pygments_lexer": "ipython3",
   "version": "3.8.8"
  }
 },
 "nbformat": 4,
 "nbformat_minor": 5
}
